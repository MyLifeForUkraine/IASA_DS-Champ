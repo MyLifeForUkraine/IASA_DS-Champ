{
 "cells": [
  {
   "cell_type": "code",
   "execution_count": 28,
   "metadata": {},
   "outputs": [],
   "source": [
    "import pickle\n",
    "import pandas as pd\n",
    "from sklearn import datasets, linear_model, model_selection\n",
    "from sklearn.metrics import mean_absolute_percentage_error, mean_squared_error, mean_absolute_error\n",
    "from cmath import sqrt"
   ]
  },
  {
   "cell_type": "markdown",
   "metadata": {},
   "source": [
    "Читаємо модель з файлу"
   ]
  },
  {
   "cell_type": "code",
   "execution_count": 29,
   "metadata": {},
   "outputs": [],
   "source": [
    "f=open('model','rb')\n",
    "saved_model=f.read()\n",
    "model=pickle.loads(saved_model)"
   ]
  },
  {
   "cell_type": "markdown",
   "metadata": {},
   "source": [
    "Створимо функцію, яка буде реалізовувати саму модель(використовуючи файл серіалізованої моделі)"
   ]
  },
  {
   "cell_type": "code",
   "execution_count": 30,
   "metadata": {},
   "outputs": [],
   "source": [
    "def model_alg(ad_ltv_day3,app_iap_ltv_day3):\n",
    "    return model.predict([[ad_ltv_day3,app_iap_ltv_day3]])"
   ]
  },
  {
   "cell_type": "markdown",
   "metadata": {},
   "source": [
    "Знайдемо значення всіх метрик."
   ]
  },
  {
   "cell_type": "code",
   "execution_count": 26,
   "metadata": {},
   "outputs": [],
   "source": [
    "dataframe=pd.read_csv('../Dataset.csv')"
   ]
  },
  {
   "cell_type": "code",
   "execution_count": 27,
   "metadata": {},
   "outputs": [
    {
     "name": "stdout",
     "output_type": "stream",
     "text": [
      "0.1366775470751751\n",
      "(1.346120999125578+0j)\n",
      "3.475699624294843\n"
     ]
    }
   ],
   "source": [
    "predictions=model.predict(dataframe.filter(['ad_ltv_day3','app_iap_ltv_day3'],axis='columns'))\n",
    "income=dataframe.filter(['target_full_ltv_day30'],axis='columns')\n",
    "print(mean_absolute_error(predictions,income))\n",
    "print(sqrt(mean_squared_error(predictions,income)))\n",
    "print(mean_absolute_percentage_error(predictions,income))"
   ]
  },
  {
   "cell_type": "markdown",
   "metadata": {},
   "source": [
    "В якості головної метрики було вибрано MAE. MAPE погана в нашому випадку через те, що доходи можуть бути нульовими, або дуже близькими до нуля. Вибираючи між MAE i RMSE ми вибрали MAE, адже вона прямо показує яку похибку моделі можна очікувати."
   ]
  }
 ],
 "metadata": {
  "kernelspec": {
   "display_name": "Python 3.10.0 64-bit",
   "language": "python",
   "name": "python3"
  },
  "language_info": {
   "codemirror_mode": {
    "name": "ipython",
    "version": 3
   },
   "file_extension": ".py",
   "mimetype": "text/x-python",
   "name": "python",
   "nbconvert_exporter": "python",
   "pygments_lexer": "ipython3",
   "version": "3.10.0"
  },
  "orig_nbformat": 4,
  "vscode": {
   "interpreter": {
    "hash": "72dd45ea11f5a85835f90ee355c020138edf063277834ba9b97bd32d06757197"
   }
  }
 },
 "nbformat": 4,
 "nbformat_minor": 2
}
