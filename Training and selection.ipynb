{
 "cells": [
  {
   "cell_type": "code",
   "execution_count": 11,
   "metadata": {},
   "outputs": [],
   "source": [
    "import pandas as pd\n",
    "import numpy as np\n",
    "from sklearn import preprocessing, datasets, linear_model, model_selection\n",
    "from sklearn.metrics import mean_absolute_percentage_error, mean_squared_error, mean_absolute_error\n",
    "from cmath import sqrt\n",
    "import pickle"
   ]
  },
  {
   "cell_type": "code",
   "execution_count": 12,
   "metadata": {},
   "outputs": [],
   "source": [
    "dataframe=pd.read_csv('../Dataset.csv')"
   ]
  },
  {
   "cell_type": "markdown",
   "metadata": {},
   "source": [
    "Видалимо всі рядки з порожніми даними, та закодуємо стовпчик з фічею 'platform'."
   ]
  },
  {
   "cell_type": "code",
   "execution_count": 13,
   "metadata": {},
   "outputs": [
    {
     "name": "stdout",
     "output_type": "stream",
     "text": [
      "         total_sessions_day0  total_sessions_day1  total_sessions_day3  \\\n",
      "0                        1.0                  1.0                  1.0   \n",
      "1                        1.0                  1.0                  1.0   \n",
      "2                        1.0                  2.0                  2.0   \n",
      "3                        1.0                  1.0                  1.0   \n",
      "4                        1.0                  1.0                  1.0   \n",
      "...                      ...                  ...                  ...   \n",
      "1467827                 11.0                 11.0                 11.0   \n",
      "1467828                  2.0                  3.0                  6.0   \n",
      "1467829                  3.0                  5.0                 11.0   \n",
      "1467830                  5.0                  5.0                  5.0   \n",
      "1467831                  6.0                  7.0                  7.0   \n",
      "\n",
      "         total_sessions_day7  chapters_finished_day0  chapters_finished_day1  \\\n",
      "0                        1.0                       0                       0   \n",
      "1                        1.0                       0                       0   \n",
      "2                        2.0                       0                       0   \n",
      "3                        1.0                       0                       0   \n",
      "4                        1.0                       0                       0   \n",
      "...                      ...                     ...                     ...   \n",
      "1467827                 11.0                       9                       9   \n",
      "1467828                  7.0                       5                       9   \n",
      "1467829                 13.0                       5                       9   \n",
      "1467830                  5.0                      24                      24   \n",
      "1467831                  7.0                      15                      15   \n",
      "\n",
      "         chapters_finished_day3  chapters_finished_day7  chapters_opened_day0  \\\n",
      "0                             0                       0                     0   \n",
      "1                             0                       0                     0   \n",
      "2                             0                       0                     0   \n",
      "3                             0                       0                     0   \n",
      "4                             0                       0                     0   \n",
      "...                         ...                     ...                   ...   \n",
      "1467827                       9                       9                    10   \n",
      "1467828                      11                      13                     6   \n",
      "1467829                      15                      18                     5   \n",
      "1467830                      24                      24                    24   \n",
      "1467831                      15                      15                    15   \n",
      "\n",
      "         chapters_opened_day1  ...  app_sub_ltv_day0  app_sub_ltv_day1  \\\n",
      "0                           0  ...               0.0               0.0   \n",
      "1                           0  ...               0.0               0.0   \n",
      "2                           0  ...               0.0               0.0   \n",
      "3                           0  ...               0.0               0.0   \n",
      "4                           0  ...               0.0               0.0   \n",
      "...                       ...  ...               ...               ...   \n",
      "1467827                    10  ...               0.0               0.0   \n",
      "1467828                    10  ...               0.0               0.0   \n",
      "1467829                    10  ...               0.0               0.0   \n",
      "1467830                    24  ...               0.0               0.0   \n",
      "1467831                    16  ...               0.0               0.0   \n",
      "\n",
      "         app_sub_ltv_day3  app_iap_ltv_day0  app_iap_ltv_day1  \\\n",
      "0                 0.00000          0.000000          0.000000   \n",
      "1                 0.00000          0.000000          0.000000   \n",
      "2                 0.00000          0.000000          0.000000   \n",
      "3                 0.00000          0.000000          0.000000   \n",
      "4                 0.00000          0.000000          0.000000   \n",
      "...                   ...               ...               ...   \n",
      "1467827           0.00000          4.174198          4.174198   \n",
      "1467828           1.17629          4.899572          7.841280   \n",
      "1467829           0.00000          4.036153          8.875894   \n",
      "1467830           0.00000          7.402224          7.402224   \n",
      "1467831           0.00000          3.949385          3.949385   \n",
      "\n",
      "         app_iap_ltv_day3  ad_ltv_day0  ad_ltv_day1  ad_ltv_day3  ios  \n",
      "0                0.000000     0.000000     0.000000     0.000000    1  \n",
      "1                0.000000     0.000000     0.000000     0.000000    0  \n",
      "2                0.000000     0.000000     0.000000     0.000000    0  \n",
      "3                0.000000     0.000000     0.000000     0.000000    1  \n",
      "4                0.000000     0.000000     0.000000     0.000000    0  \n",
      "...                   ...          ...          ...          ...  ...  \n",
      "1467827          4.174198     0.037158     0.037158     0.037158    1  \n",
      "1467828          9.404430     0.039256     0.039256     0.091267    1  \n",
      "1467829         13.928170     0.000000     0.000000     0.000000    1  \n",
      "1467830          7.402224     0.177550     0.177550     0.177550    1  \n",
      "1467831          3.949385     0.114909     0.114909     0.114909    0  \n",
      "\n",
      "[1466458 rows x 56 columns]\n"
     ]
    }
   ],
   "source": [
    "dataframe.drop(dataframe.index[dataframe.isna().any(axis=1)].tolist(),axis=0,inplace=True)\n",
    "income_dataframe=dataframe.filter(['target_sub_ltv_day30','target_iap_ltv_day30','target_ad_ltv_day30','target_full_ltv_day30'],axis=1)\n",
    "dataframe.drop(columns=['target_sub_ltv_day30','target_iap_ltv_day30','target_ad_ltv_day30','target_full_ltv_day30'],axis=1,inplace=True)\n",
    "\n",
    "dataframe.drop(columns=['media_source','install_date','country_code'],axis=1,inplace=True)\n",
    "dummies_platform=pd.get_dummies(dataframe['platform'],drop_first=True)\n",
    "dataframe.drop(columns=['platform'],axis=1,inplace=True)\n",
    "dataframe=pd.concat([dataframe,dummies_platform],axis='columns')\n",
    "print(dataframe)"
   ]
  },
  {
   "cell_type": "code",
   "execution_count": 14,
   "metadata": {},
   "outputs": [],
   "source": [
    "new_dataframe=dataframe.copy()"
   ]
  },
  {
   "cell_type": "markdown",
   "metadata": {},
   "source": [
    "Натренуємо модель на всіх фічах для того, щоб на основі абсолютних значень коефіцієнтів впорядкувати фічі за \"важливістю\"."
   ]
  },
  {
   "cell_type": "code",
   "execution_count": 15,
   "metadata": {},
   "outputs": [
    {
     "name": "stdout",
     "output_type": "stream",
     "text": [
      "('ad_ltv_day3', 4.565020491918325)\n",
      "('ad_ltv_day1', 2.2671459408930956)\n",
      "('app_iap_ltv_day3', 1.552644923663874)\n",
      "('app_sub_ltv_day3', 1.3411146835409573)\n",
      "('app_sub_ltv_day0', 1.2016637530328833)\n",
      "('ad_ltv_day0', 1.0486103683311014)\n",
      "('retained_day7', 0.3353853496595691)\n",
      "('app_iap_ltv_day1', 0.33184202567243937)\n",
      "('app_sub_ltv_day1', 0.23951449142009323)\n",
      "('retained_day3', 0.20359274703188124)\n",
      "('chapters_closed_day3', 0.17369295544955443)\n",
      "('chapters_closed_day7', 0.17244488044279763)\n",
      "('chapters_finished_day3', 0.11258189390362468)\n",
      "('app_iap_ltv_day0', 0.11256527345463507)\n",
      "('retained_day1', 0.08473053182496304)\n",
      "('chapters_finished_day7', 0.0845457826910029)\n",
      "('chapters_closed_session9', 0.07235202527158385)\n",
      "('tickets_spent_day3', 0.0635731602327001)\n",
      "('tickets_spent_day1', 0.05625630274881627)\n",
      "('chapters_opened_session9', 0.054840480832172245)\n",
      "('chapters_finished_session9', 0.0428558546290414)\n",
      "('chapters_opened_day3', 0.04150153060955853)\n",
      "('chapters_opened_day7', 0.04091992396646649)\n",
      "('tickets_spent_session1', 0.03799424638278093)\n",
      "('chapters_finished_session1', 0.03614232396634731)\n",
      "('chapters_closed_day1', 0.030587011984547677)\n",
      "('total_sessions_day3', 0.02824338248398375)\n",
      "('chapters_opened_day1', 0.02807753754079525)\n",
      "('total_sessions_day7', 0.02780687952886608)\n",
      "('tickets_spent_session3', 0.02552415240218131)\n",
      "('chapters_closed_session1', 0.021592899462702528)\n",
      "('tickets_spent_day7', 0.020840065044322564)\n",
      "('tickets_spent_session9', 0.02061229839475942)\n",
      "('diamonds_spent_day3', 0.019759482909915)\n",
      "('chapters_finished_session3', 0.01933685782460559)\n",
      "('diamonds_spent_day7', 0.016440089384937392)\n",
      "('chapters_opened_day0', 0.015327796477293154)\n",
      "('ios', 0.013995582227263131)\n",
      "('chapters_closed_session3', 0.013018256405934028)\n",
      "('chapters_finished_day0', 0.01089486982894297)\n",
      "('chapters_finished_day1', 0.010402976768303015)\n",
      "('tickets_spent_day0', 0.009864615797318621)\n",
      "('total_sessions_day1', 0.008010985274035244)\n",
      "('chapters_opened_session1', 0.006538085160007701)\n",
      "('diamonds_received_day3', 0.005765258305357193)\n",
      "('diamonds_received_day7', 0.0040426866686298114)\n",
      "('diamonds_spent_session9', 0.0038792463707211233)\n",
      "('chapters_closed_day0', 0.0020382127137372336)\n",
      "('total_sessions_day0', 0.001514954347598161)\n",
      "('diamonds_received_day1', 0.001326989173678489)\n",
      "('chapters_opened_session3', 0.001303437734207269)\n",
      "('diamonds_spent_session1', 0.0012865469587390876)\n",
      "('diamonds_spent_day1', 0.001281191111430463)\n",
      "('diamonds_spent_day0', 0.0010628593509622863)\n",
      "('diamonds_spent_session3', 0.0006802112480804312)\n",
      "('diamonds_received_day0', 0.0004348148855795996)\n"
     ]
    }
   ],
   "source": [
    "X_train, X_test, y_train, y_test = model_selection.train_test_split(new_dataframe,income_dataframe['target_full_ltv_day30'], test_size=0.2)\n",
    "model=linear_model.LinearRegression(fit_intercept=1)\n",
    "model.fit(X_train, y_train)\n",
    "coef=[]\n",
    "for i in range(len(model.coef_)):\n",
    "    coef.append((new_dataframe.columns.values[i], abs(model.coef_[i])))\n",
    "coef=sorted(coef, key=lambda tup: tup[1])\n",
    "coef.reverse()\n",
    "for i in range(len(model.coef_)):\n",
    "    print(coef[i])"
   ]
  },
  {
   "cell_type": "markdown",
   "metadata": {},
   "source": [
    "Будемо поступово(за \"важливістю\") додавати фічі в модель і у випадку покращення метрики MAE залишати їх в моделі."
   ]
  },
  {
   "cell_type": "code",
   "execution_count": 16,
   "metadata": {},
   "outputs": [
    {
     "name": "stdout",
     "output_type": "stream",
     "text": [
      "ad_ltv_day3 0.3755406428680663\n",
      "app_iap_ltv_day3 0.13722054405248418\n",
      "ad_ltv_day0 0.1321743193897526\n",
      "app_iap_ltv_day1 0.12832310024225144\n",
      "retained_day3 0.1274043493298607\n",
      "chapters_opened_day3 0.12538111108087094\n",
      "diamonds_received_day1 0.12486298922629106\n"
     ]
    }
   ],
   "source": [
    "features=[]\n",
    "min=1000000\n",
    "best_features=[]\n",
    "for x in coef:\n",
    "    name=x[1]\n",
    "    features.append(x[0])\n",
    "    training_dataframe=new_dataframe.filter(features,axis='columns')\n",
    "    X_train, X_test, y_train, y_test = model_selection.train_test_split(training_dataframe,income_dataframe['target_full_ltv_day30'], test_size=0.2)\n",
    "    model=linear_model.LinearRegression(fit_intercept=1)    \n",
    "    model.fit(X_train, y_train)\n",
    "    predictions=model.predict(X_test)\n",
    "    a=mean_absolute_error(predictions,y_test)\n",
    "    if a<min:\n",
    "        best_features=features.copy()\n",
    "        min=a\n",
    "        print(x[0],a)\n",
    "    else:\n",
    "        features.remove(x[0])\n",
    "\n",
    "    \n"
   ]
  },
  {
   "cell_type": "code",
   "execution_count": 17,
   "metadata": {},
   "outputs": [
    {
     "name": "stdout",
     "output_type": "stream",
     "text": [
      "['ad_ltv_day3', 'app_iap_ltv_day3', 'ad_ltv_day0', 'app_iap_ltv_day1', 'retained_day3', 'chapters_opened_day3', 'diamonds_received_day1'] 0.12486298922629106\n"
     ]
    }
   ],
   "source": [
    "print(best_features,min)"
   ]
  },
  {
   "cell_type": "code",
   "execution_count": 18,
   "metadata": {},
   "outputs": [
    {
     "name": "stdout",
     "output_type": "stream",
     "text": [
      "0.13158900668720816\n",
      "(1.361309109456833+0j)\n",
      "64.95497390310743\n"
     ]
    }
   ],
   "source": [
    "training_dataframe=new_dataframe.filter(best_features,axis='columns')\n",
    "X_train, X_test, y_train, y_test = model_selection.train_test_split(training_dataframe,income_dataframe['target_full_ltv_day30'], test_size=0.2)\n",
    "model=linear_model.LinearRegression(fit_intercept=1)    \n",
    "model.fit(X_train, y_train)\n",
    "predictions=model.predict(X_test)\n",
    "print(mean_absolute_error(predictions,y_test))\n",
    "print(sqrt(mean_squared_error(predictions,y_test)))\n",
    "print(mean_absolute_percentage_error(predictions,y_test))"
   ]
  },
  {
   "cell_type": "markdown",
   "metadata": {},
   "source": [
    "Водночас бачимо, що модель з фічами 'ad_ltv_day3', 'ad_ltv_day1', 'app_iap_ltv_day3' має майже таку ж метрику MAE. Враховуючи той факт, що фічі 'ad_ltv_day3' та 'ad_ltv_day1' корелюють (як видно з EDA) то можна спробувати викинути одну з них. Викинемо 'ad_ltv_day1', адже вона має меншу \"важливість\"."
   ]
  },
  {
   "cell_type": "code",
   "execution_count": 19,
   "metadata": {},
   "outputs": [
    {
     "name": "stdout",
     "output_type": "stream",
     "text": [
      "         ad_ltv_day3  app_iap_ltv_day3\n",
      "0           0.000000          0.000000\n",
      "1           0.000000          0.000000\n",
      "2           0.000000          0.000000\n",
      "3           0.000000          0.000000\n",
      "4           0.000000          0.000000\n",
      "...              ...               ...\n",
      "1467827     0.037158          4.174198\n",
      "1467828     0.091267          9.404430\n",
      "1467829     0.000000         13.928170\n",
      "1467830     0.177550          7.402224\n",
      "1467831     0.114909          3.949385\n",
      "\n",
      "[1466458 rows x 2 columns]\n",
      "0.13895927096860775\n",
      "(1.2025906262861348+0j)\n",
      "2.7873475818351787\n"
     ]
    }
   ],
   "source": [
    "training_dataframe=new_dataframe.filter(['ad_ltv_day3','app_iap_ltv_day3'],axis='columns')\n",
    "print(training_dataframe)\n",
    "X_train, X_test, y_train, y_test = model_selection.train_test_split(training_dataframe,income_dataframe['target_full_ltv_day30'], test_size=0.2)\n",
    "model=linear_model.LinearRegression(fit_intercept=1)    \n",
    "model.fit(X_train, y_train)\n",
    "predictions=model.predict(X_test)\n",
    "print(mean_absolute_error(predictions,y_test))\n",
    "print(sqrt(mean_squared_error(predictions,y_test)))\n",
    "print(mean_absolute_percentage_error(predictions,y_test))"
   ]
  },
  {
   "cell_type": "markdown",
   "metadata": {},
   "source": [
    "Бачимо що метрика MAE не набагато більша за модель з best_features тому виберемо простішу модель."
   ]
  },
  {
   "cell_type": "code",
   "execution_count": 22,
   "metadata": {},
   "outputs": [
    {
     "name": "stdout",
     "output_type": "stream",
     "text": [
      "[3.28282544 1.48532095]\n",
      "-0.00828463425962267\n",
      "['ad_ltv_day3' 'app_iap_ltv_day3']\n"
     ]
    }
   ],
   "source": [
    "print(model.coef_)\n",
    "print(model.intercept_)"
   ]
  },
  {
   "cell_type": "code",
   "execution_count": null,
   "metadata": {},
   "outputs": [],
   "source": [
    "saved_model=pickle.dumps(model)\n",
    "f=open('model','wb')\n",
    "f.write(saved_model)\n",
    "f.close()"
   ]
  }
 ],
 "metadata": {
  "kernelspec": {
   "display_name": "Python 3.10.0 64-bit",
   "language": "python",
   "name": "python3"
  },
  "language_info": {
   "codemirror_mode": {
    "name": "ipython",
    "version": 3
   },
   "file_extension": ".py",
   "mimetype": "text/x-python",
   "name": "python",
   "nbconvert_exporter": "python",
   "pygments_lexer": "ipython3",
   "version": "3.10.0"
  },
  "orig_nbformat": 4,
  "vscode": {
   "interpreter": {
    "hash": "72dd45ea11f5a85835f90ee355c020138edf063277834ba9b97bd32d06757197"
   }
  }
 },
 "nbformat": 4,
 "nbformat_minor": 2
}
