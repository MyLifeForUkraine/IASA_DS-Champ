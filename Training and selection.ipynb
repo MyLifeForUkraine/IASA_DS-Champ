{
 "cells": [
  {
   "cell_type": "code",
   "execution_count": 19,
   "metadata": {},
   "outputs": [],
   "source": [
    "import pandas as pd\n",
    "import numpy as np\n",
    "from sklearn import preprocessing, datasets, linear_model, model_selection\n",
    "from sklearn.metrics import mean_absolute_percentage_error, mean_squared_error, mean_absolute_error\n",
    "from cmath import sqrt\n",
    "\n",
    "dataframe=pd.read_csv('Dataset.csv')"
   ]
  },
  {
   "cell_type": "markdown",
   "metadata": {},
   "source": [
    "Видалимо всі рядки з порожніми даними, та замінимо стовпчики з категоріальними даними на закодовані еквіваленти."
   ]
  },
  {
   "cell_type": "code",
   "execution_count": 20,
   "metadata": {},
   "outputs": [
    {
     "name": "stdout",
     "output_type": "stream",
     "text": [
      "         total_sessions_day0  total_sessions_day1  total_sessions_day3  \\\n",
      "0                        1.0                  1.0                  1.0   \n",
      "1                        1.0                  1.0                  1.0   \n",
      "2                        1.0                  2.0                  2.0   \n",
      "3                        1.0                  1.0                  1.0   \n",
      "4                        1.0                  1.0                  1.0   \n",
      "...                      ...                  ...                  ...   \n",
      "1467827                 11.0                 11.0                 11.0   \n",
      "1467828                  2.0                  3.0                  6.0   \n",
      "1467829                  3.0                  5.0                 11.0   \n",
      "1467830                  5.0                  5.0                  5.0   \n",
      "1467831                  6.0                  7.0                  7.0   \n",
      "\n",
      "         total_sessions_day7  chapters_finished_day0  chapters_finished_day1  \\\n",
      "0                        1.0                       0                       0   \n",
      "1                        1.0                       0                       0   \n",
      "2                        2.0                       0                       0   \n",
      "3                        1.0                       0                       0   \n",
      "4                        1.0                       0                       0   \n",
      "...                      ...                     ...                     ...   \n",
      "1467827                 11.0                       9                       9   \n",
      "1467828                  7.0                       5                       9   \n",
      "1467829                 13.0                       5                       9   \n",
      "1467830                  5.0                      24                      24   \n",
      "1467831                  7.0                      15                      15   \n",
      "\n",
      "         chapters_finished_day3  chapters_finished_day7  chapters_opened_day0  \\\n",
      "0                             0                       0                     0   \n",
      "1                             0                       0                     0   \n",
      "2                             0                       0                     0   \n",
      "3                             0                       0                     0   \n",
      "4                             0                       0                     0   \n",
      "...                         ...                     ...                   ...   \n",
      "1467827                       9                       9                    10   \n",
      "1467828                      11                      13                     6   \n",
      "1467829                      15                      18                     5   \n",
      "1467830                      24                      24                    24   \n",
      "1467831                      15                      15                    15   \n",
      "\n",
      "         chapters_opened_day1  ...  app_sub_ltv_day0  app_sub_ltv_day1  \\\n",
      "0                           0  ...               0.0               0.0   \n",
      "1                           0  ...               0.0               0.0   \n",
      "2                           0  ...               0.0               0.0   \n",
      "3                           0  ...               0.0               0.0   \n",
      "4                           0  ...               0.0               0.0   \n",
      "...                       ...  ...               ...               ...   \n",
      "1467827                    10  ...               0.0               0.0   \n",
      "1467828                    10  ...               0.0               0.0   \n",
      "1467829                    10  ...               0.0               0.0   \n",
      "1467830                    24  ...               0.0               0.0   \n",
      "1467831                    16  ...               0.0               0.0   \n",
      "\n",
      "         app_sub_ltv_day3  app_iap_ltv_day0  app_iap_ltv_day1  \\\n",
      "0                 0.00000          0.000000          0.000000   \n",
      "1                 0.00000          0.000000          0.000000   \n",
      "2                 0.00000          0.000000          0.000000   \n",
      "3                 0.00000          0.000000          0.000000   \n",
      "4                 0.00000          0.000000          0.000000   \n",
      "...                   ...               ...               ...   \n",
      "1467827           0.00000          4.174198          4.174198   \n",
      "1467828           1.17629          4.899572          7.841280   \n",
      "1467829           0.00000          4.036153          8.875894   \n",
      "1467830           0.00000          7.402224          7.402224   \n",
      "1467831           0.00000          3.949385          3.949385   \n",
      "\n",
      "         app_iap_ltv_day3  ad_ltv_day0  ad_ltv_day1  ad_ltv_day3  ios  \n",
      "0                0.000000     0.000000     0.000000     0.000000    1  \n",
      "1                0.000000     0.000000     0.000000     0.000000    0  \n",
      "2                0.000000     0.000000     0.000000     0.000000    0  \n",
      "3                0.000000     0.000000     0.000000     0.000000    1  \n",
      "4                0.000000     0.000000     0.000000     0.000000    0  \n",
      "...                   ...          ...          ...          ...  ...  \n",
      "1467827          4.174198     0.037158     0.037158     0.037158    1  \n",
      "1467828          9.404430     0.039256     0.039256     0.091267    1  \n",
      "1467829         13.928170     0.000000     0.000000     0.000000    1  \n",
      "1467830          7.402224     0.177550     0.177550     0.177550    1  \n",
      "1467831          3.949385     0.114909     0.114909     0.114909    0  \n",
      "\n",
      "[1466458 rows x 56 columns]\n"
     ]
    }
   ],
   "source": [
    "dataframe.drop(dataframe.index[dataframe.isna().any(axis=1)].tolist(),axis=0,inplace=True)\n",
    "income_dataframe=dataframe.filter(['target_sub_ltv_day30','target_iap_ltv_day30','target_ad_ltv_day30','target_full_ltv_day30'],axis=1)\n",
    "dataframe.drop(columns=['target_sub_ltv_day30','target_iap_ltv_day30','target_ad_ltv_day30','target_full_ltv_day30'],axis=1,inplace=True)\n",
    "\n",
    "categorical_dataframe=dataframe.filter(['platform','media_source','install_date', 'country_code'],axis=1)\n",
    "dataframe.drop(columns=['media_source','install_date', 'platform','country_code'],axis=1,inplace=True)\n",
    "dummies_platform=pd.get_dummies(categorical_dataframe['platform'],drop_first=True)\n",
    "dataframe=pd.concat([dataframe,dummies_platform],axis='columns')\n",
    "print(dataframe)"
   ]
  },
  {
   "cell_type": "code",
   "execution_count": 21,
   "metadata": {},
   "outputs": [],
   "source": [
    "categorical_dataframe['country_frequency']=categorical_dataframe['country_code'].map(categorical_dataframe['country_code'].value_counts())\n",
    "categorical_dataframe['media_frequency']=categorical_dataframe['media_source'].map(categorical_dataframe['media_source'].value_counts())"
   ]
  },
  {
   "cell_type": "code",
   "execution_count": 22,
   "metadata": {},
   "outputs": [
    {
     "name": "stdout",
     "output_type": "stream",
     "text": [
      "0          238049\n",
      "1           63231\n",
      "2          318053\n",
      "3          238049\n",
      "4           23379\n",
      "            ...  \n",
      "1467827    318053\n",
      "1467828    238049\n",
      "1467829    238049\n",
      "1467830    728849\n",
      "1467831     23379\n",
      "Name: media_frequency, Length: 1466458, dtype: int64\n",
      "0            2650\n",
      "1          387032\n",
      "2          387032\n",
      "3          387032\n",
      "4           14680\n",
      "            ...  \n",
      "1467827    387032\n",
      "1467828    387032\n",
      "1467829    387032\n",
      "1467830    387032\n",
      "1467831    387032\n",
      "Name: country_frequency, Length: 1466458, dtype: int64\n"
     ]
    }
   ],
   "source": [
    "new_dataframe=pd.concat([dataframe,categorical_dataframe['country_frequency']],axis='columns')\n",
    "new_dataframe=pd.concat([new_dataframe,categorical_dataframe['media_frequency']],axis='columns')\n",
    "print(new_dataframe['media_frequency'])\n",
    "print(new_dataframe['country_frequency'])"
   ]
  },
  {
   "cell_type": "markdown",
   "metadata": {},
   "source": [
    "Натренуємо модель на всіх фічах для того, щоб на основі абсолютних значень коефіцієнтів впорядкувати фічі за \"важливістю\"."
   ]
  },
  {
   "cell_type": "code",
   "execution_count": 23,
   "metadata": {},
   "outputs": [
    {
     "name": "stdout",
     "output_type": "stream",
     "text": [
      "('ad_ltv_day3', 4.232881568559846)\n",
      "('ad_ltv_day1', 2.529826966696556)\n",
      "('app_iap_ltv_day3', 1.6242945815182983)\n",
      "('app_sub_ltv_day3', 1.3287143593622581)\n",
      "('app_sub_ltv_day0', 1.2339492843843896)\n",
      "('app_iap_ltv_day1', 0.4020620645543068)\n",
      "('retained_day7', 0.3440335354169588)\n",
      "('app_sub_ltv_day1', 0.29470365889038397)\n",
      "('retained_day3', 0.21436866713094105)\n",
      "('ad_ltv_day0', 0.17166421492809691)\n",
      "('chapters_closed_day7', 0.16492565728304556)\n",
      "('chapters_closed_day3', 0.15528623039122808)\n",
      "('app_iap_ltv_day0', 0.10636515581753803)\n",
      "('retained_day1', 0.09151902116798011)\n",
      "('chapters_finished_day3', 0.08698807341390503)\n",
      "('tickets_spent_day1', 0.08290697999694416)\n",
      "('chapters_opened_session9', 0.07121369931317506)\n",
      "('chapters_finished_session9', 0.06381642511385147)\n",
      "('chapters_closed_session9', 0.06161245414934646)\n",
      "('chapters_opened_day1', 0.06074847158671977)\n",
      "('chapters_finished_day7', 0.05494510364875676)\n",
      "('tickets_spent_day3', 0.05399823210424198)\n",
      "('tickets_spent_session1', 0.039978839403404576)\n",
      "('chapters_closed_day1', 0.038216907522461735)\n",
      "('tickets_spent_session3', 0.03571692538286453)\n",
      "('total_sessions_day3', 0.03007746906194187)\n",
      "('total_sessions_day7', 0.029472381990215846)\n",
      "('chapters_finished_session1', 0.028892940618282292)\n",
      "('chapters_finished_session3', 0.027341778451345028)\n",
      "('chapters_closed_session1', 0.02403506625550035)\n",
      "('ios', 0.021743082403307676)\n",
      "('diamonds_spent_day3', 0.018555763151323124)\n",
      "('chapters_opened_day7', 0.016193722028930928)\n",
      "('diamonds_spent_day7', 0.015985491385093475)\n",
      "('tickets_spent_day0', 0.015672726677206955)\n",
      "('chapters_closed_session3', 0.008744948665540597)\n",
      "('diamonds_received_day3', 0.007667996653989581)\n",
      "('chapters_opened_day3', 0.007649421025861542)\n",
      "('total_sessions_day1', 0.0051221514201576)\n",
      "('tickets_spent_session9', 0.005101151585984898)\n",
      "('diamonds_received_day7', 0.0050439343755593335)\n",
      "('chapters_finished_day0', 0.004602542699070302)\n",
      "('diamonds_received_day1', 0.003961908797345301)\n",
      "('chapters_closed_day0', 0.003701105216936673)\n",
      "('chapters_opened_session3', 0.0032202574207340073)\n",
      "('diamonds_spent_session9', 0.0031389497736201144)\n",
      "('chapters_finished_day1', 0.0022274278892524257)\n",
      "('chapters_opened_session1', 0.0017009584056987825)\n",
      "('diamonds_spent_session1', 0.0015487403541947775)\n",
      "('chapters_opened_day0', 0.0012952668979270177)\n",
      "('diamonds_received_day0', 0.0011553299194880743)\n",
      "('diamonds_spent_day1', 0.0009539501795154184)\n",
      "('diamonds_spent_day0', 0.0006780530920762265)\n",
      "('diamonds_spent_session3', 0.00048582559366505684)\n",
      "('total_sessions_day0', 0.00046267375859901903)\n",
      "('tickets_spent_day7', 0.0004467866374455176)\n",
      "('country_frequency', 2.2411735356442364e-08)\n",
      "('media_frequency', 2.089418124628928e-08)\n"
     ]
    }
   ],
   "source": [
    "X_train, X_test, y_train, y_test = model_selection.train_test_split(new_dataframe,income_dataframe['target_full_ltv_day30'], test_size=0.2)\n",
    "model=linear_model.LinearRegression(fit_intercept=1)\n",
    "model.fit(X_train, y_train)\n",
    "coef=[]\n",
    "for i in range(len(model.coef_)):\n",
    "    coef.append((new_dataframe.columns.values[i], abs(model.coef_[i])))\n",
    "coef=sorted(coef, key=lambda tup: tup[1])\n",
    "coef.reverse()\n",
    "for i in range(len(model.coef_)):\n",
    "    print(coef[i])"
   ]
  },
  {
   "cell_type": "markdown",
   "metadata": {},
   "source": [
    "Будемо поступово(за \"важливістю\") додавати фічі в модель і у випадку покращення метрики MAE залишати їх в моделі."
   ]
  },
  {
   "cell_type": "code",
   "execution_count": 24,
   "metadata": {},
   "outputs": [
    {
     "name": "stdout",
     "output_type": "stream",
     "text": [
      "ad_ltv_day3 0.3779301825795212 ['ad_ltv_day3']\n",
      "ad_ltv_day1 0.375992132681524 ['ad_ltv_day3', 'ad_ltv_day1']\n",
      "app_iap_ltv_day3 0.1314366863943583 ['ad_ltv_day3', 'ad_ltv_day1', 'app_iap_ltv_day3']\n",
      "app_sub_ltv_day3 0.12536549441354364 ['ad_ltv_day3', 'ad_ltv_day1', 'app_iap_ltv_day3', 'app_sub_ltv_day3']\n",
      "app_sub_ltv_day0 0.12490378667437273 ['ad_ltv_day3', 'ad_ltv_day1', 'app_iap_ltv_day3', 'app_sub_ltv_day3', 'app_sub_ltv_day0']\n",
      "app_iap_ltv_day1 0.1168624863942858 ['ad_ltv_day3', 'ad_ltv_day1', 'app_iap_ltv_day3', 'app_sub_ltv_day3', 'app_sub_ltv_day0', 'app_iap_ltv_day1']\n",
      "retained_day7 0.14061485189942097 ['ad_ltv_day3', 'ad_ltv_day1', 'app_iap_ltv_day3', 'app_sub_ltv_day3', 'app_sub_ltv_day0', 'app_iap_ltv_day1', 'retained_day7']\n",
      "app_sub_ltv_day1 0.1189459011164853 ['ad_ltv_day3', 'ad_ltv_day1', 'app_iap_ltv_day3', 'app_sub_ltv_day3', 'app_sub_ltv_day0', 'app_iap_ltv_day1', 'app_sub_ltv_day1']\n",
      "retained_day3 0.11865930429439658 ['ad_ltv_day3', 'ad_ltv_day1', 'app_iap_ltv_day3', 'app_sub_ltv_day3', 'app_sub_ltv_day0', 'app_iap_ltv_day1', 'retained_day3']\n",
      "ad_ltv_day0 0.11670951249442583 ['ad_ltv_day3', 'ad_ltv_day1', 'app_iap_ltv_day3', 'app_sub_ltv_day3', 'app_sub_ltv_day0', 'app_iap_ltv_day1', 'ad_ltv_day0']\n",
      "chapters_closed_day7 0.12952211609027464 ['ad_ltv_day3', 'ad_ltv_day1', 'app_iap_ltv_day3', 'app_sub_ltv_day3', 'app_sub_ltv_day0', 'app_iap_ltv_day1', 'ad_ltv_day0', 'chapters_closed_day7']\n",
      "chapters_closed_day3 0.11749599272795463 ['ad_ltv_day3', 'ad_ltv_day1', 'app_iap_ltv_day3', 'app_sub_ltv_day3', 'app_sub_ltv_day0', 'app_iap_ltv_day1', 'ad_ltv_day0', 'chapters_closed_day3']\n",
      "app_iap_ltv_day0 0.11633957068742709 ['ad_ltv_day3', 'ad_ltv_day1', 'app_iap_ltv_day3', 'app_sub_ltv_day3', 'app_sub_ltv_day0', 'app_iap_ltv_day1', 'ad_ltv_day0', 'app_iap_ltv_day0']\n",
      "retained_day1 0.12013741694023163 ['ad_ltv_day3', 'ad_ltv_day1', 'app_iap_ltv_day3', 'app_sub_ltv_day3', 'app_sub_ltv_day0', 'app_iap_ltv_day1', 'ad_ltv_day0', 'app_iap_ltv_day0', 'retained_day1']\n",
      "chapters_finished_day3 0.11775527335958146 ['ad_ltv_day3', 'ad_ltv_day1', 'app_iap_ltv_day3', 'app_sub_ltv_day3', 'app_sub_ltv_day0', 'app_iap_ltv_day1', 'ad_ltv_day0', 'app_iap_ltv_day0', 'chapters_finished_day3']\n",
      "tickets_spent_day1 0.12262923859325976 ['ad_ltv_day3', 'ad_ltv_day1', 'app_iap_ltv_day3', 'app_sub_ltv_day3', 'app_sub_ltv_day0', 'app_iap_ltv_day1', 'ad_ltv_day0', 'app_iap_ltv_day0', 'tickets_spent_day1']\n",
      "chapters_opened_session9 0.13297476322610144 ['ad_ltv_day3', 'ad_ltv_day1', 'app_iap_ltv_day3', 'app_sub_ltv_day3', 'app_sub_ltv_day0', 'app_iap_ltv_day1', 'ad_ltv_day0', 'app_iap_ltv_day0', 'chapters_opened_session9']\n",
      "chapters_finished_session9 0.13555171135657498 ['ad_ltv_day3', 'ad_ltv_day1', 'app_iap_ltv_day3', 'app_sub_ltv_day3', 'app_sub_ltv_day0', 'app_iap_ltv_day1', 'ad_ltv_day0', 'app_iap_ltv_day0', 'chapters_finished_session9']\n",
      "chapters_closed_session9 0.12432343634881027 ['ad_ltv_day3', 'ad_ltv_day1', 'app_iap_ltv_day3', 'app_sub_ltv_day3', 'app_sub_ltv_day0', 'app_iap_ltv_day1', 'ad_ltv_day0', 'app_iap_ltv_day0', 'chapters_closed_session9']\n",
      "chapters_opened_day1 0.12002061223297436 ['ad_ltv_day3', 'ad_ltv_day1', 'app_iap_ltv_day3', 'app_sub_ltv_day3', 'app_sub_ltv_day0', 'app_iap_ltv_day1', 'ad_ltv_day0', 'app_iap_ltv_day0', 'chapters_opened_day1']\n",
      "chapters_finished_day7 0.1508624662137402 ['ad_ltv_day3', 'ad_ltv_day1', 'app_iap_ltv_day3', 'app_sub_ltv_day3', 'app_sub_ltv_day0', 'app_iap_ltv_day1', 'ad_ltv_day0', 'app_iap_ltv_day0', 'chapters_finished_day7']\n",
      "tickets_spent_day3 0.12288984730013153 ['ad_ltv_day3', 'ad_ltv_day1', 'app_iap_ltv_day3', 'app_sub_ltv_day3', 'app_sub_ltv_day0', 'app_iap_ltv_day1', 'ad_ltv_day0', 'app_iap_ltv_day0', 'tickets_spent_day3']\n",
      "tickets_spent_session1 0.12313790597463276 ['ad_ltv_day3', 'ad_ltv_day1', 'app_iap_ltv_day3', 'app_sub_ltv_day3', 'app_sub_ltv_day0', 'app_iap_ltv_day1', 'ad_ltv_day0', 'app_iap_ltv_day0', 'tickets_spent_session1']\n",
      "chapters_closed_day1 0.1152875278944683 ['ad_ltv_day3', 'ad_ltv_day1', 'app_iap_ltv_day3', 'app_sub_ltv_day3', 'app_sub_ltv_day0', 'app_iap_ltv_day1', 'ad_ltv_day0', 'app_iap_ltv_day0', 'chapters_closed_day1']\n",
      "tickets_spent_session3 0.11909264055551938 ['ad_ltv_day3', 'ad_ltv_day1', 'app_iap_ltv_day3', 'app_sub_ltv_day3', 'app_sub_ltv_day0', 'app_iap_ltv_day1', 'ad_ltv_day0', 'app_iap_ltv_day0', 'chapters_closed_day1', 'tickets_spent_session3']\n",
      "total_sessions_day3 0.12046008524854931 ['ad_ltv_day3', 'ad_ltv_day1', 'app_iap_ltv_day3', 'app_sub_ltv_day3', 'app_sub_ltv_day0', 'app_iap_ltv_day1', 'ad_ltv_day0', 'app_iap_ltv_day0', 'chapters_closed_day1', 'total_sessions_day3']\n",
      "total_sessions_day7 0.13559197812551807 ['ad_ltv_day3', 'ad_ltv_day1', 'app_iap_ltv_day3', 'app_sub_ltv_day3', 'app_sub_ltv_day0', 'app_iap_ltv_day1', 'ad_ltv_day0', 'app_iap_ltv_day0', 'chapters_closed_day1', 'total_sessions_day7']\n",
      "chapters_finished_session1 0.12227681339666152 ['ad_ltv_day3', 'ad_ltv_day1', 'app_iap_ltv_day3', 'app_sub_ltv_day3', 'app_sub_ltv_day0', 'app_iap_ltv_day1', 'ad_ltv_day0', 'app_iap_ltv_day0', 'chapters_closed_day1', 'chapters_finished_session1']\n",
      "chapters_finished_session3 0.11279104489753768 ['ad_ltv_day3', 'ad_ltv_day1', 'app_iap_ltv_day3', 'app_sub_ltv_day3', 'app_sub_ltv_day0', 'app_iap_ltv_day1', 'ad_ltv_day0', 'app_iap_ltv_day0', 'chapters_closed_day1', 'chapters_finished_session3']\n",
      "chapters_closed_session1 0.1176434025205505 ['ad_ltv_day3', 'ad_ltv_day1', 'app_iap_ltv_day3', 'app_sub_ltv_day3', 'app_sub_ltv_day0', 'app_iap_ltv_day1', 'ad_ltv_day0', 'app_iap_ltv_day0', 'chapters_closed_day1', 'chapters_finished_session3', 'chapters_closed_session1']\n",
      "ios 0.121451269177912 ['ad_ltv_day3', 'ad_ltv_day1', 'app_iap_ltv_day3', 'app_sub_ltv_day3', 'app_sub_ltv_day0', 'app_iap_ltv_day1', 'ad_ltv_day0', 'app_iap_ltv_day0', 'chapters_closed_day1', 'chapters_finished_session3', 'ios']\n",
      "diamonds_spent_day3 0.13392063219749928 ['ad_ltv_day3', 'ad_ltv_day1', 'app_iap_ltv_day3', 'app_sub_ltv_day3', 'app_sub_ltv_day0', 'app_iap_ltv_day1', 'ad_ltv_day0', 'app_iap_ltv_day0', 'chapters_closed_day1', 'chapters_finished_session3', 'diamonds_spent_day3']\n",
      "chapters_opened_day7 0.15148142920552035 ['ad_ltv_day3', 'ad_ltv_day1', 'app_iap_ltv_day3', 'app_sub_ltv_day3', 'app_sub_ltv_day0', 'app_iap_ltv_day1', 'ad_ltv_day0', 'app_iap_ltv_day0', 'chapters_closed_day1', 'chapters_finished_session3', 'chapters_opened_day7']\n",
      "diamonds_spent_day7 0.19468299778294615 ['ad_ltv_day3', 'ad_ltv_day1', 'app_iap_ltv_day3', 'app_sub_ltv_day3', 'app_sub_ltv_day0', 'app_iap_ltv_day1', 'ad_ltv_day0', 'app_iap_ltv_day0', 'chapters_closed_day1', 'chapters_finished_session3', 'diamonds_spent_day7']\n",
      "tickets_spent_day0 0.12042803597069403 ['ad_ltv_day3', 'ad_ltv_day1', 'app_iap_ltv_day3', 'app_sub_ltv_day3', 'app_sub_ltv_day0', 'app_iap_ltv_day1', 'ad_ltv_day0', 'app_iap_ltv_day0', 'chapters_closed_day1', 'chapters_finished_session3', 'tickets_spent_day0']\n",
      "chapters_closed_session3 0.12046207122778 ['ad_ltv_day3', 'ad_ltv_day1', 'app_iap_ltv_day3', 'app_sub_ltv_day3', 'app_sub_ltv_day0', 'app_iap_ltv_day1', 'ad_ltv_day0', 'app_iap_ltv_day0', 'chapters_closed_day1', 'chapters_finished_session3', 'chapters_closed_session3']\n",
      "diamonds_received_day3 0.11998017986819581 ['ad_ltv_day3', 'ad_ltv_day1', 'app_iap_ltv_day3', 'app_sub_ltv_day3', 'app_sub_ltv_day0', 'app_iap_ltv_day1', 'ad_ltv_day0', 'app_iap_ltv_day0', 'chapters_closed_day1', 'chapters_finished_session3', 'diamonds_received_day3']\n",
      "chapters_opened_day3 0.11862209406623858 ['ad_ltv_day3', 'ad_ltv_day1', 'app_iap_ltv_day3', 'app_sub_ltv_day3', 'app_sub_ltv_day0', 'app_iap_ltv_day1', 'ad_ltv_day0', 'app_iap_ltv_day0', 'chapters_closed_day1', 'chapters_finished_session3', 'chapters_opened_day3']\n",
      "total_sessions_day1 0.1186270204574328 ['ad_ltv_day3', 'ad_ltv_day1', 'app_iap_ltv_day3', 'app_sub_ltv_day3', 'app_sub_ltv_day0', 'app_iap_ltv_day1', 'ad_ltv_day0', 'app_iap_ltv_day0', 'chapters_closed_day1', 'chapters_finished_session3', 'total_sessions_day1']\n",
      "tickets_spent_session9 0.1293181639639895 ['ad_ltv_day3', 'ad_ltv_day1', 'app_iap_ltv_day3', 'app_sub_ltv_day3', 'app_sub_ltv_day0', 'app_iap_ltv_day1', 'ad_ltv_day0', 'app_iap_ltv_day0', 'chapters_closed_day1', 'chapters_finished_session3', 'tickets_spent_session9']\n",
      "diamonds_received_day7 0.12459510055839648 ['ad_ltv_day3', 'ad_ltv_day1', 'app_iap_ltv_day3', 'app_sub_ltv_day3', 'app_sub_ltv_day0', 'app_iap_ltv_day1', 'ad_ltv_day0', 'app_iap_ltv_day0', 'chapters_closed_day1', 'chapters_finished_session3', 'diamonds_received_day7']\n",
      "chapters_finished_day0 0.11923789163081093 ['ad_ltv_day3', 'ad_ltv_day1', 'app_iap_ltv_day3', 'app_sub_ltv_day3', 'app_sub_ltv_day0', 'app_iap_ltv_day1', 'ad_ltv_day0', 'app_iap_ltv_day0', 'chapters_closed_day1', 'chapters_finished_session3', 'chapters_finished_day0']\n",
      "diamonds_received_day1 0.11370439906905938 ['ad_ltv_day3', 'ad_ltv_day1', 'app_iap_ltv_day3', 'app_sub_ltv_day3', 'app_sub_ltv_day0', 'app_iap_ltv_day1', 'ad_ltv_day0', 'app_iap_ltv_day0', 'chapters_closed_day1', 'chapters_finished_session3', 'diamonds_received_day1']\n",
      "chapters_closed_day0 0.11741933406125826 ['ad_ltv_day3', 'ad_ltv_day1', 'app_iap_ltv_day3', 'app_sub_ltv_day3', 'app_sub_ltv_day0', 'app_iap_ltv_day1', 'ad_ltv_day0', 'app_iap_ltv_day0', 'chapters_closed_day1', 'chapters_finished_session3', 'chapters_closed_day0']\n",
      "chapters_opened_session3 0.12454602375584513 ['ad_ltv_day3', 'ad_ltv_day1', 'app_iap_ltv_day3', 'app_sub_ltv_day3', 'app_sub_ltv_day0', 'app_iap_ltv_day1', 'ad_ltv_day0', 'app_iap_ltv_day0', 'chapters_closed_day1', 'chapters_finished_session3', 'chapters_opened_session3']\n",
      "diamonds_spent_session9 0.15345877655382256 ['ad_ltv_day3', 'ad_ltv_day1', 'app_iap_ltv_day3', 'app_sub_ltv_day3', 'app_sub_ltv_day0', 'app_iap_ltv_day1', 'ad_ltv_day0', 'app_iap_ltv_day0', 'chapters_closed_day1', 'chapters_finished_session3', 'diamonds_spent_session9']\n",
      "chapters_finished_day1 0.11792314031645594 ['ad_ltv_day3', 'ad_ltv_day1', 'app_iap_ltv_day3', 'app_sub_ltv_day3', 'app_sub_ltv_day0', 'app_iap_ltv_day1', 'ad_ltv_day0', 'app_iap_ltv_day0', 'chapters_closed_day1', 'chapters_finished_session3', 'chapters_finished_day1']\n",
      "chapters_opened_session1 0.12206900786135284 ['ad_ltv_day3', 'ad_ltv_day1', 'app_iap_ltv_day3', 'app_sub_ltv_day3', 'app_sub_ltv_day0', 'app_iap_ltv_day1', 'ad_ltv_day0', 'app_iap_ltv_day0', 'chapters_closed_day1', 'chapters_finished_session3', 'chapters_opened_session1']\n",
      "diamonds_spent_session1 0.11861445493939476 ['ad_ltv_day3', 'ad_ltv_day1', 'app_iap_ltv_day3', 'app_sub_ltv_day3', 'app_sub_ltv_day0', 'app_iap_ltv_day1', 'ad_ltv_day0', 'app_iap_ltv_day0', 'chapters_closed_day1', 'chapters_finished_session3', 'diamonds_spent_session1']\n",
      "chapters_opened_day0 0.12738331985779316 ['ad_ltv_day3', 'ad_ltv_day1', 'app_iap_ltv_day3', 'app_sub_ltv_day3', 'app_sub_ltv_day0', 'app_iap_ltv_day1', 'ad_ltv_day0', 'app_iap_ltv_day0', 'chapters_closed_day1', 'chapters_finished_session3', 'chapters_opened_day0']\n",
      "diamonds_received_day0 0.1187586974172614 ['ad_ltv_day3', 'ad_ltv_day1', 'app_iap_ltv_day3', 'app_sub_ltv_day3', 'app_sub_ltv_day0', 'app_iap_ltv_day1', 'ad_ltv_day0', 'app_iap_ltv_day0', 'chapters_closed_day1', 'chapters_finished_session3', 'diamonds_received_day0']\n",
      "diamonds_spent_day1 0.127199792540057 ['ad_ltv_day3', 'ad_ltv_day1', 'app_iap_ltv_day3', 'app_sub_ltv_day3', 'app_sub_ltv_day0', 'app_iap_ltv_day1', 'ad_ltv_day0', 'app_iap_ltv_day0', 'chapters_closed_day1', 'chapters_finished_session3', 'diamonds_spent_day1']\n",
      "diamonds_spent_day0 0.11998960667449535 ['ad_ltv_day3', 'ad_ltv_day1', 'app_iap_ltv_day3', 'app_sub_ltv_day3', 'app_sub_ltv_day0', 'app_iap_ltv_day1', 'ad_ltv_day0', 'app_iap_ltv_day0', 'chapters_closed_day1', 'chapters_finished_session3', 'diamonds_spent_day0']\n",
      "diamonds_spent_session3 0.1315583086269034 ['ad_ltv_day3', 'ad_ltv_day1', 'app_iap_ltv_day3', 'app_sub_ltv_day3', 'app_sub_ltv_day0', 'app_iap_ltv_day1', 'ad_ltv_day0', 'app_iap_ltv_day0', 'chapters_closed_day1', 'chapters_finished_session3', 'diamonds_spent_session3']\n",
      "total_sessions_day0 0.11948318184148117 ['ad_ltv_day3', 'ad_ltv_day1', 'app_iap_ltv_day3', 'app_sub_ltv_day3', 'app_sub_ltv_day0', 'app_iap_ltv_day1', 'ad_ltv_day0', 'app_iap_ltv_day0', 'chapters_closed_day1', 'chapters_finished_session3', 'total_sessions_day0']\n",
      "tickets_spent_day7 0.1414969789983281 ['ad_ltv_day3', 'ad_ltv_day1', 'app_iap_ltv_day3', 'app_sub_ltv_day3', 'app_sub_ltv_day0', 'app_iap_ltv_day1', 'ad_ltv_day0', 'app_iap_ltv_day0', 'chapters_closed_day1', 'chapters_finished_session3', 'tickets_spent_day7']\n",
      "country_frequency 0.11858604335287416 ['ad_ltv_day3', 'ad_ltv_day1', 'app_iap_ltv_day3', 'app_sub_ltv_day3', 'app_sub_ltv_day0', 'app_iap_ltv_day1', 'ad_ltv_day0', 'app_iap_ltv_day0', 'chapters_closed_day1', 'chapters_finished_session3', 'country_frequency']\n",
      "media_frequency 0.12185518433567735 ['ad_ltv_day3', 'ad_ltv_day1', 'app_iap_ltv_day3', 'app_sub_ltv_day3', 'app_sub_ltv_day0', 'app_iap_ltv_day1', 'ad_ltv_day0', 'app_iap_ltv_day0', 'chapters_closed_day1', 'chapters_finished_session3', 'media_frequency']\n"
     ]
    }
   ],
   "source": [
    "features=[]\n",
    "min=1000000\n",
    "best_features=[]\n",
    "for x in coef:\n",
    "    name=x[1]\n",
    "    features.append(x[0])\n",
    "    training_dataframe=new_dataframe.filter(features,axis='columns')\n",
    "    X_train, X_test, y_train, y_test = model_selection.train_test_split(training_dataframe,income_dataframe['target_full_ltv_day30'], test_size=0.2)\n",
    "    model=linear_model.LinearRegression(fit_intercept=1)    \n",
    "    model.fit(X_train, y_train)\n",
    "    predictions=model.predict(X_test)\n",
    "    a=mean_absolute_error(predictions,y_test)\n",
    "    print(x[0],a,features)\n",
    "    if a<min:\n",
    "        best_features=features.copy()\n",
    "        min=a\n",
    "    else:\n",
    "        features.remove(x[0])\n",
    "\n",
    "    \n"
   ]
  },
  {
   "cell_type": "code",
   "execution_count": 25,
   "metadata": {},
   "outputs": [
    {
     "name": "stdout",
     "output_type": "stream",
     "text": [
      "['ad_ltv_day3', 'ad_ltv_day1', 'app_iap_ltv_day3', 'app_sub_ltv_day3', 'app_sub_ltv_day0', 'app_iap_ltv_day1', 'ad_ltv_day0', 'app_iap_ltv_day0', 'chapters_closed_day1', 'chapters_finished_session3'] 0.11279104489753768\n"
     ]
    }
   ],
   "source": [
    "print(best_features,min)"
   ]
  },
  {
   "cell_type": "code",
   "execution_count": 26,
   "metadata": {},
   "outputs": [
    {
     "name": "stdout",
     "output_type": "stream",
     "text": [
      "0.11805826573164349\n",
      "(1.279283422416669+0j)\n"
     ]
    }
   ],
   "source": [
    "training_dataframe=new_dataframe.filter(best_features,axis='columns')\n",
    "X_train, X_test, y_train, y_test = model_selection.train_test_split(training_dataframe,income_dataframe['target_full_ltv_day30'], test_size=0.2)\n",
    "model=linear_model.LinearRegression(fit_intercept=1)    \n",
    "model.fit(X_train, y_train)\n",
    "predictions=model.predict(X_test)\n",
    "print(mean_absolute_error(predictions,y_test))\n",
    "print(sqrt(mean_squared_error(predictions,y_test)))"
   ]
  },
  {
   "cell_type": "markdown",
   "metadata": {},
   "source": [
    "Водночас бачимо, що модель з фічами 'ad_ltv_day3', 'ad_ltv_day1', 'app_iap_ltv_day3' має майже таку ж метрику MAE. Враховуючи той факт, що фічі 'ad_ltv_day3' та 'ad_ltv_day1' корелюють (як видно з EDA) то можна спробувати викинути одну з них. Викинемо 'ad_ltv_day1', адже вона має меншу \"важливість\"."
   ]
  },
  {
   "cell_type": "code",
   "execution_count": 30,
   "metadata": {},
   "outputs": [
    {
     "name": "stdout",
     "output_type": "stream",
     "text": [
      "0.14219378741383495\n",
      "(1.2291876020432113+0j)\n"
     ]
    }
   ],
   "source": [
    "training_dataframe=new_dataframe.filter(['ad_ltv_day3','app_iap_ltv_day3'],axis='columns')\n",
    "X_train, X_test, y_train, y_test = model_selection.train_test_split(training_dataframe,income_dataframe['target_full_ltv_day30'], test_size=0.2)\n",
    "model=linear_model.LinearRegression(fit_intercept=1)    \n",
    "model.fit(X_train, y_train)\n",
    "predictions=model.predict(X_test)\n",
    "print(mean_absolute_error(predictions,y_test))\n",
    "print(sqrt(mean_squared_error(predictions,y_test)))"
   ]
  },
  {
   "cell_type": "markdown",
   "metadata": {},
   "source": [
    "Бачимо що метрика MAE не набагато більша за модель з best_features тому виберемо простішу модель."
   ]
  },
  {
   "cell_type": "code",
   "execution_count": 17,
   "metadata": {},
   "outputs": [
    {
     "name": "stdout",
     "output_type": "stream",
     "text": [
      "[3.30642215 1.47660667]\n",
      "-0.0074066380856026015\n"
     ]
    }
   ],
   "source": [
    "print(model.coef_)\n",
    "print(model.intercept_)"
   ]
  }
 ],
 "metadata": {
  "kernelspec": {
   "display_name": "Python 3.10.0 64-bit",
   "language": "python",
   "name": "python3"
  },
  "language_info": {
   "codemirror_mode": {
    "name": "ipython",
    "version": 3
   },
   "file_extension": ".py",
   "mimetype": "text/x-python",
   "name": "python",
   "nbconvert_exporter": "python",
   "pygments_lexer": "ipython3",
   "version": "3.10.0"
  },
  "orig_nbformat": 4,
  "vscode": {
   "interpreter": {
    "hash": "72dd45ea11f5a85835f90ee355c020138edf063277834ba9b97bd32d06757197"
   }
  }
 },
 "nbformat": 4,
 "nbformat_minor": 2
}
