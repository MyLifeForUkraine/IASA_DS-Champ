{
 "cells": [
  {
   "cell_type": "code",
   "execution_count": 30,
   "metadata": {},
   "outputs": [],
   "source": [
    "import pandas as pd\n",
    "import numpy as np\n",
    "from sklearn import preprocessing, datasets, linear_model, model_selection\n",
    "from sklearn.metrics import mean_absolute_percentage_error, mean_squared_error, mean_absolute_error\n",
    "from cmath import sqrt\n",
    "\n",
    "dataframe=pd.read_csv('../Dataset.csv')"
   ]
  },
  {
   "cell_type": "markdown",
   "metadata": {},
   "source": [
    "Видалимо всі рядки з порожніми даними, та закодуємо стовпчик з фічею 'platform'."
   ]
  },
  {
   "cell_type": "code",
   "execution_count": 31,
   "metadata": {},
   "outputs": [
    {
     "name": "stdout",
     "output_type": "stream",
     "text": [
      "         total_sessions_day0  total_sessions_day1  total_sessions_day3  \\\n",
      "0                        1.0                  1.0                  1.0   \n",
      "1                        1.0                  1.0                  1.0   \n",
      "2                        1.0                  2.0                  2.0   \n",
      "3                        1.0                  1.0                  1.0   \n",
      "4                        1.0                  1.0                  1.0   \n",
      "...                      ...                  ...                  ...   \n",
      "1467827                 11.0                 11.0                 11.0   \n",
      "1467828                  2.0                  3.0                  6.0   \n",
      "1467829                  3.0                  5.0                 11.0   \n",
      "1467830                  5.0                  5.0                  5.0   \n",
      "1467831                  6.0                  7.0                  7.0   \n",
      "\n",
      "         total_sessions_day7  chapters_finished_day0  chapters_finished_day1  \\\n",
      "0                        1.0                       0                       0   \n",
      "1                        1.0                       0                       0   \n",
      "2                        2.0                       0                       0   \n",
      "3                        1.0                       0                       0   \n",
      "4                        1.0                       0                       0   \n",
      "...                      ...                     ...                     ...   \n",
      "1467827                 11.0                       9                       9   \n",
      "1467828                  7.0                       5                       9   \n",
      "1467829                 13.0                       5                       9   \n",
      "1467830                  5.0                      24                      24   \n",
      "1467831                  7.0                      15                      15   \n",
      "\n",
      "         chapters_finished_day3  chapters_finished_day7  chapters_opened_day0  \\\n",
      "0                             0                       0                     0   \n",
      "1                             0                       0                     0   \n",
      "2                             0                       0                     0   \n",
      "3                             0                       0                     0   \n",
      "4                             0                       0                     0   \n",
      "...                         ...                     ...                   ...   \n",
      "1467827                       9                       9                    10   \n",
      "1467828                      11                      13                     6   \n",
      "1467829                      15                      18                     5   \n",
      "1467830                      24                      24                    24   \n",
      "1467831                      15                      15                    15   \n",
      "\n",
      "         chapters_opened_day1  ...  app_sub_ltv_day0  app_sub_ltv_day1  \\\n",
      "0                           0  ...               0.0               0.0   \n",
      "1                           0  ...               0.0               0.0   \n",
      "2                           0  ...               0.0               0.0   \n",
      "3                           0  ...               0.0               0.0   \n",
      "4                           0  ...               0.0               0.0   \n",
      "...                       ...  ...               ...               ...   \n",
      "1467827                    10  ...               0.0               0.0   \n",
      "1467828                    10  ...               0.0               0.0   \n",
      "1467829                    10  ...               0.0               0.0   \n",
      "1467830                    24  ...               0.0               0.0   \n",
      "1467831                    16  ...               0.0               0.0   \n",
      "\n",
      "         app_sub_ltv_day3  app_iap_ltv_day0  app_iap_ltv_day1  \\\n",
      "0                 0.00000          0.000000          0.000000   \n",
      "1                 0.00000          0.000000          0.000000   \n",
      "2                 0.00000          0.000000          0.000000   \n",
      "3                 0.00000          0.000000          0.000000   \n",
      "4                 0.00000          0.000000          0.000000   \n",
      "...                   ...               ...               ...   \n",
      "1467827           0.00000          4.174198          4.174198   \n",
      "1467828           1.17629          4.899572          7.841280   \n",
      "1467829           0.00000          4.036153          8.875894   \n",
      "1467830           0.00000          7.402224          7.402224   \n",
      "1467831           0.00000          3.949385          3.949385   \n",
      "\n",
      "         app_iap_ltv_day3  ad_ltv_day0  ad_ltv_day1  ad_ltv_day3  ios  \n",
      "0                0.000000     0.000000     0.000000     0.000000    1  \n",
      "1                0.000000     0.000000     0.000000     0.000000    0  \n",
      "2                0.000000     0.000000     0.000000     0.000000    0  \n",
      "3                0.000000     0.000000     0.000000     0.000000    1  \n",
      "4                0.000000     0.000000     0.000000     0.000000    0  \n",
      "...                   ...          ...          ...          ...  ...  \n",
      "1467827          4.174198     0.037158     0.037158     0.037158    1  \n",
      "1467828          9.404430     0.039256     0.039256     0.091267    1  \n",
      "1467829         13.928170     0.000000     0.000000     0.000000    1  \n",
      "1467830          7.402224     0.177550     0.177550     0.177550    1  \n",
      "1467831          3.949385     0.114909     0.114909     0.114909    0  \n",
      "\n",
      "[1466458 rows x 56 columns]\n"
     ]
    }
   ],
   "source": [
    "dataframe.drop(dataframe.index[dataframe.isna().any(axis=1)].tolist(),axis=0,inplace=True)\n",
    "income_dataframe=dataframe.filter(['target_sub_ltv_day30','target_iap_ltv_day30','target_ad_ltv_day30','target_full_ltv_day30'],axis=1)\n",
    "dataframe.drop(columns=['target_sub_ltv_day30','target_iap_ltv_day30','target_ad_ltv_day30','target_full_ltv_day30'],axis=1,inplace=True)\n",
    "\n",
    "dataframe.drop(columns=['media_source','install_date','country_code'],axis=1,inplace=True)\n",
    "dummies_platform=pd.get_dummies(dataframe['platform'],drop_first=True)\n",
    "dataframe.drop(columns=['platform'],axis=1,inplace=True)\n",
    "dataframe=pd.concat([dataframe,dummies_platform],axis='columns')\n",
    "print(dataframe)"
   ]
  },
  {
   "cell_type": "code",
   "execution_count": 32,
   "metadata": {},
   "outputs": [],
   "source": [
    "new_dataframe=dataframe.copy()"
   ]
  },
  {
   "cell_type": "markdown",
   "metadata": {},
   "source": [
    "Натренуємо модель на всіх фічах для того, щоб на основі абсолютних значень коефіцієнтів впорядкувати фічі за \"важливістю\"."
   ]
  },
  {
   "cell_type": "code",
   "execution_count": 33,
   "metadata": {},
   "outputs": [
    {
     "name": "stdout",
     "output_type": "stream",
     "text": [
      "('ad_ltv_day3', 4.138487240324049)\n",
      "('ad_ltv_day1', 2.3954567511554776)\n",
      "('app_sub_ltv_day0', 1.6542535345766984)\n",
      "('app_iap_ltv_day3', 1.6503985258844596)\n",
      "('app_sub_ltv_day3', 1.3430796076966214)\n",
      "('app_iap_ltv_day1', 0.44649850555256165)\n",
      "('retained_day7', 0.3422940782452222)\n",
      "('ad_ltv_day0', 0.3206918401705674)\n",
      "('app_sub_ltv_day1', 0.28288525965363787)\n",
      "('retained_day3', 0.22030077963536432)\n",
      "('chapters_closed_day7', 0.15356161648287267)\n",
      "('chapters_closed_day3', 0.15354522095025425)\n",
      "('chapters_finished_day3', 0.12423537826861854)\n",
      "('app_iap_ltv_day0', 0.11389683751423396)\n",
      "('retained_day1', 0.09936317404386785)\n",
      "('chapters_finished_day7', 0.08322799973206771)\n",
      "('chapters_opened_session9', 0.07376704764743192)\n",
      "('chapters_closed_session9', 0.0687884914536015)\n",
      "('tickets_spent_day1', 0.06223477733744215)\n",
      "('chapters_finished_session9', 0.050564844777816254)\n",
      "('chapters_opened_day3', 0.04987499743880077)\n",
      "('tickets_spent_day3', 0.04498298970091197)\n",
      "('tickets_spent_session1', 0.040955433564909716)\n",
      "('chapters_opened_day7', 0.03476714853926968)\n",
      "('chapters_finished_session1', 0.03126393717665099)\n",
      "('total_sessions_day3', 0.027874992934078902)\n",
      "('total_sessions_day7', 0.02753705026244872)\n",
      "('tickets_spent_session9', 0.02739636881303814)\n",
      "('chapters_opened_day0', 0.026758405511576166)\n",
      "('chapters_finished_day1', 0.02564280855332613)\n",
      "('tickets_spent_session3', 0.024997422784932444)\n",
      "('chapters_finished_day0', 0.02381276120929858)\n",
      "('chapters_closed_session1', 0.020052236518948552)\n",
      "('diamonds_spent_day3', 0.019720745022731717)\n",
      "('chapters_closed_day0', 0.019198472037580967)\n",
      "('chapters_opened_day1', 0.017378107780230828)\n",
      "('diamonds_spent_day7', 0.01685734995506938)\n",
      "('chapters_closed_day1', 0.013756188584932003)\n",
      "('ios', 0.013102790014386939)\n",
      "('total_sessions_day1', 0.011972152455027744)\n",
      "('chapters_finished_session3', 0.011970090589704996)\n",
      "('chapters_closed_session3', 0.010594840731154298)\n",
      "('tickets_spent_day7', 0.009060127930196338)\n",
      "('diamonds_received_day3', 0.006286382240252443)\n",
      "('total_sessions_day0', 0.00602441449814868)\n",
      "('tickets_spent_day0', 0.005053419820953642)\n",
      "('diamonds_received_day7', 0.00401335541609988)\n",
      "('diamonds_spent_session9', 0.0032622692679169785)\n",
      "('diamonds_received_day1', 0.002640471554673854)\n",
      "('chapters_opened_session3', 0.002327349756701083)\n",
      "('diamonds_spent_session1', 0.0013419243106709)\n",
      "('chapters_opened_session1', 0.0011265878234713034)\n",
      "('diamonds_spent_day1', 0.0005795193035516011)\n",
      "('diamonds_spent_session3', 0.000349516266420144)\n",
      "('diamonds_received_day0', 0.0002917487097276062)\n",
      "('diamonds_spent_day0', 0.00024532104325744597)\n"
     ]
    }
   ],
   "source": [
    "X_train, X_test, y_train, y_test = model_selection.train_test_split(new_dataframe,income_dataframe['target_full_ltv_day30'], test_size=0.2)\n",
    "model=linear_model.LinearRegression(fit_intercept=1)\n",
    "model.fit(X_train, y_train)\n",
    "coef=[]\n",
    "for i in range(len(model.coef_)):\n",
    "    coef.append((new_dataframe.columns.values[i], abs(model.coef_[i])))\n",
    "coef=sorted(coef, key=lambda tup: tup[1])\n",
    "coef.reverse()\n",
    "for i in range(len(model.coef_)):\n",
    "    print(coef[i])"
   ]
  },
  {
   "cell_type": "markdown",
   "metadata": {},
   "source": [
    "Будемо поступово(за \"важливістю\") додавати фічі в модель і у випадку покращення метрики MAE залишати їх в моделі."
   ]
  },
  {
   "cell_type": "code",
   "execution_count": 34,
   "metadata": {},
   "outputs": [
    {
     "name": "stdout",
     "output_type": "stream",
     "text": [
      "ad_ltv_day3 0.3786347271718978\n",
      "app_sub_ltv_day0 0.3730327367040168\n",
      "app_iap_ltv_day3 0.14829566492855661\n",
      "app_sub_ltv_day3 0.13828281671087436\n",
      "app_iap_ltv_day1 0.12145577251342274\n",
      "chapters_finished_day3 0.12047540779073365\n",
      "retained_day1 0.11863352139132247\n"
     ]
    }
   ],
   "source": [
    "features=[]\n",
    "min=1000000\n",
    "best_features=[]\n",
    "for x in coef:\n",
    "    name=x[1]\n",
    "    features.append(x[0])\n",
    "    training_dataframe=new_dataframe.filter(features,axis='columns')\n",
    "    X_train, X_test, y_train, y_test = model_selection.train_test_split(training_dataframe,income_dataframe['target_full_ltv_day30'], test_size=0.2)\n",
    "    model=linear_model.LinearRegression(fit_intercept=1)    \n",
    "    model.fit(X_train, y_train)\n",
    "    predictions=model.predict(X_test)\n",
    "    a=mean_absolute_error(predictions,y_test)\n",
    "    if a<min:\n",
    "        best_features=features.copy()\n",
    "        min=a\n",
    "        print(x[0],a)\n",
    "    else:\n",
    "        features.remove(x[0])\n",
    "\n",
    "    \n"
   ]
  },
  {
   "cell_type": "code",
   "execution_count": 35,
   "metadata": {},
   "outputs": [
    {
     "name": "stdout",
     "output_type": "stream",
     "text": [
      "['ad_ltv_day3', 'app_sub_ltv_day0', 'app_iap_ltv_day3', 'app_sub_ltv_day3', 'app_iap_ltv_day1', 'chapters_finished_day3', 'retained_day1'] 0.11863352139132247\n"
     ]
    }
   ],
   "source": [
    "print(best_features,min)"
   ]
  },
  {
   "cell_type": "code",
   "execution_count": 36,
   "metadata": {},
   "outputs": [
    {
     "name": "stdout",
     "output_type": "stream",
     "text": [
      "0.1229251304688254\n",
      "(1.427245448896613+0j)\n",
      "7.600582193367486\n"
     ]
    }
   ],
   "source": [
    "training_dataframe=new_dataframe.filter(best_features,axis='columns')\n",
    "X_train, X_test, y_train, y_test = model_selection.train_test_split(training_dataframe,income_dataframe['target_full_ltv_day30'], test_size=0.2)\n",
    "model=linear_model.LinearRegression(fit_intercept=1)    \n",
    "model.fit(X_train, y_train)\n",
    "predictions=model.predict(X_test)\n",
    "print(mean_absolute_error(predictions,y_test))\n",
    "print(sqrt(mean_squared_error(predictions,y_test)))\n",
    "print(mean_absolute_percentage_error(predictions,y_test))"
   ]
  },
  {
   "cell_type": "markdown",
   "metadata": {},
   "source": [
    "Водночас бачимо, що модель з фічами 'ad_ltv_day3', 'ad_ltv_day1', 'app_iap_ltv_day3' має майже таку ж метрику MAE. Враховуючи той факт, що фічі 'ad_ltv_day3' та 'ad_ltv_day1' корелюють (як видно з EDA) то можна спробувати викинути одну з них. Викинемо 'ad_ltv_day1', адже вона має меншу \"важливість\"."
   ]
  },
  {
   "cell_type": "code",
   "execution_count": 37,
   "metadata": {},
   "outputs": [
    {
     "name": "stdout",
     "output_type": "stream",
     "text": [
      "0.14099818976182668\n",
      "(1.210911514926889+0j)\n",
      "2.300020927213265\n"
     ]
    }
   ],
   "source": [
    "training_dataframe=new_dataframe.filter(['ad_ltv_day3','app_iap_ltv_day3'],axis='columns')\n",
    "X_train, X_test, y_train, y_test = model_selection.train_test_split(training_dataframe,income_dataframe['target_full_ltv_day30'], test_size=0.2)\n",
    "model=linear_model.LinearRegression(fit_intercept=1)    \n",
    "model.fit(X_train, y_train)\n",
    "predictions=model.predict(X_test)\n",
    "print(mean_absolute_error(predictions,y_test))\n",
    "print(sqrt(mean_squared_error(predictions,y_test)))\n",
    "print(mean_absolute_percentage_error(predictions,y_test))"
   ]
  },
  {
   "cell_type": "markdown",
   "metadata": {},
   "source": [
    "Бачимо що метрика MAE не набагато більша за модель з best_features тому виберемо простішу модель."
   ]
  },
  {
   "cell_type": "code",
   "execution_count": 38,
   "metadata": {},
   "outputs": [
    {
     "name": "stdout",
     "output_type": "stream",
     "text": [
      "[3.27839123 1.48129353]\n",
      "-0.008201597945691586\n"
     ]
    }
   ],
   "source": [
    "print(model.coef_)\n",
    "print(model.intercept_)"
   ]
  }
 ],
 "metadata": {
  "kernelspec": {
   "display_name": "Python 3.10.0 64-bit",
   "language": "python",
   "name": "python3"
  },
  "language_info": {
   "codemirror_mode": {
    "name": "ipython",
    "version": 3
   },
   "file_extension": ".py",
   "mimetype": "text/x-python",
   "name": "python",
   "nbconvert_exporter": "python",
   "pygments_lexer": "ipython3",
   "version": "3.10.0"
  },
  "orig_nbformat": 4,
  "vscode": {
   "interpreter": {
    "hash": "72dd45ea11f5a85835f90ee355c020138edf063277834ba9b97bd32d06757197"
   }
  }
 },
 "nbformat": 4,
 "nbformat_minor": 2
}
