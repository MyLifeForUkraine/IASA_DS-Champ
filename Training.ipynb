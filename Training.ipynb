{
 "cells": [
  {
   "cell_type": "code",
   "execution_count": 1,
   "metadata": {},
   "outputs": [],
   "source": [
    "import pandas as pd #імпортуємо бібліотеку pandas\n",
    "import numpy as np #імпортуємо бібліотеку numpy\n",
    "from sklearn import preprocessing, datasets, linear_model, model_selection #імпортуємо потрібні модулі з бібліотеки sklearn\n",
    "from sklearn.metrics import mean_absolute_percentage_error, mean_squared_error, mean_absolute_error #імпортуємо потрібні функції з бібліотеки sklearn.metrics\n",
    "from cmath import sqrt #імпортуємо функцію sqrt з бібліотеки cmath"
   ]
  },
  {
   "cell_type": "code",
   "execution_count": 2,
   "metadata": {},
   "outputs": [
    {
     "ename": "KeyError",
     "evalue": "('ad_ltv_day3', 'app_iap_ltv_day3', 'target_full_ltv_day30')",
     "output_type": "error",
     "traceback": [
      "\u001b[1;31m---------------------------------------------------------------------------\u001b[0m",
      "\u001b[1;31mKeyError\u001b[0m                                  Traceback (most recent call last)",
      "File \u001b[1;32mc:\\Users\\Lenovo X1 Carbon\\AppData\\Local\\Programs\\Python\\Python310\\lib\\site-packages\\pandas\\core\\indexes\\base.py:3629\u001b[0m, in \u001b[0;36mIndex.get_loc\u001b[1;34m(self, key, method, tolerance)\u001b[0m\n\u001b[0;32m   3628\u001b[0m \u001b[39mtry\u001b[39;00m:\n\u001b[1;32m-> 3629\u001b[0m     \u001b[39mreturn\u001b[39;00m \u001b[39mself\u001b[39;49m\u001b[39m.\u001b[39;49m_engine\u001b[39m.\u001b[39;49mget_loc(casted_key)\n\u001b[0;32m   3630\u001b[0m \u001b[39mexcept\u001b[39;00m \u001b[39mKeyError\u001b[39;00m \u001b[39mas\u001b[39;00m err:\n",
      "File \u001b[1;32mc:\\Users\\Lenovo X1 Carbon\\AppData\\Local\\Programs\\Python\\Python310\\lib\\site-packages\\pandas\\_libs\\index.pyx:136\u001b[0m, in \u001b[0;36mpandas._libs.index.IndexEngine.get_loc\u001b[1;34m()\u001b[0m\n",
      "File \u001b[1;32mc:\\Users\\Lenovo X1 Carbon\\AppData\\Local\\Programs\\Python\\Python310\\lib\\site-packages\\pandas\\_libs\\index.pyx:163\u001b[0m, in \u001b[0;36mpandas._libs.index.IndexEngine.get_loc\u001b[1;34m()\u001b[0m\n",
      "File \u001b[1;32mpandas\\_libs\\hashtable_class_helper.pxi:5198\u001b[0m, in \u001b[0;36mpandas._libs.hashtable.PyObjectHashTable.get_item\u001b[1;34m()\u001b[0m\n",
      "File \u001b[1;32mpandas\\_libs\\hashtable_class_helper.pxi:5206\u001b[0m, in \u001b[0;36mpandas._libs.hashtable.PyObjectHashTable.get_item\u001b[1;34m()\u001b[0m\n",
      "\u001b[1;31mKeyError\u001b[0m: ('ad_ltv_day3', 'app_iap_ltv_day3', 'target_full_ltv_day30')",
      "\nThe above exception was the direct cause of the following exception:\n",
      "\u001b[1;31mKeyError\u001b[0m                                  Traceback (most recent call last)",
      "Cell \u001b[1;32mIn [2], line 3\u001b[0m\n\u001b[0;32m      1\u001b[0m dataframe\u001b[38;5;241m=\u001b[39mpd\u001b[38;5;241m.\u001b[39mread_csv(\u001b[38;5;124m'\u001b[39m\u001b[38;5;124m../Dataset.csv\u001b[39m\u001b[38;5;124m'\u001b[39m) \u001b[38;5;66;03m#зчитуємо в змінну dataframe дані з заданого файлу\u001b[39;00m\n\u001b[0;32m      2\u001b[0m dataframe \u001b[38;5;66;03m#виводимо дані на екран\u001b[39;00m\n\u001b[1;32m----> 3\u001b[0m \u001b[38;5;28mprint\u001b[39m(\u001b[43mdataframe\u001b[49m\u001b[43m[\u001b[49m\u001b[38;5;124;43m'\u001b[39;49m\u001b[38;5;124;43mad_ltv_day3\u001b[39;49m\u001b[38;5;124;43m'\u001b[39;49m\u001b[43m,\u001b[49m\u001b[38;5;124;43m'\u001b[39;49m\u001b[38;5;124;43mapp_iap_ltv_day3\u001b[39;49m\u001b[38;5;124;43m'\u001b[39;49m\u001b[43m,\u001b[49m\u001b[38;5;124;43m'\u001b[39;49m\u001b[38;5;124;43mtarget_full_ltv_day30\u001b[39;49m\u001b[38;5;124;43m'\u001b[39;49m\u001b[43m]\u001b[49m)\n",
      "File \u001b[1;32mc:\\Users\\Lenovo X1 Carbon\\AppData\\Local\\Programs\\Python\\Python310\\lib\\site-packages\\pandas\\core\\frame.py:3505\u001b[0m, in \u001b[0;36mDataFrame.__getitem__\u001b[1;34m(self, key)\u001b[0m\n\u001b[0;32m   3503\u001b[0m \u001b[39mif\u001b[39;00m \u001b[39mself\u001b[39m\u001b[39m.\u001b[39mcolumns\u001b[39m.\u001b[39mnlevels \u001b[39m>\u001b[39m \u001b[39m1\u001b[39m:\n\u001b[0;32m   3504\u001b[0m     \u001b[39mreturn\u001b[39;00m \u001b[39mself\u001b[39m\u001b[39m.\u001b[39m_getitem_multilevel(key)\n\u001b[1;32m-> 3505\u001b[0m indexer \u001b[39m=\u001b[39m \u001b[39mself\u001b[39;49m\u001b[39m.\u001b[39;49mcolumns\u001b[39m.\u001b[39;49mget_loc(key)\n\u001b[0;32m   3506\u001b[0m \u001b[39mif\u001b[39;00m is_integer(indexer):\n\u001b[0;32m   3507\u001b[0m     indexer \u001b[39m=\u001b[39m [indexer]\n",
      "File \u001b[1;32mc:\\Users\\Lenovo X1 Carbon\\AppData\\Local\\Programs\\Python\\Python310\\lib\\site-packages\\pandas\\core\\indexes\\base.py:3631\u001b[0m, in \u001b[0;36mIndex.get_loc\u001b[1;34m(self, key, method, tolerance)\u001b[0m\n\u001b[0;32m   3629\u001b[0m     \u001b[39mreturn\u001b[39;00m \u001b[39mself\u001b[39m\u001b[39m.\u001b[39m_engine\u001b[39m.\u001b[39mget_loc(casted_key)\n\u001b[0;32m   3630\u001b[0m \u001b[39mexcept\u001b[39;00m \u001b[39mKeyError\u001b[39;00m \u001b[39mas\u001b[39;00m err:\n\u001b[1;32m-> 3631\u001b[0m     \u001b[39mraise\u001b[39;00m \u001b[39mKeyError\u001b[39;00m(key) \u001b[39mfrom\u001b[39;00m \u001b[39merr\u001b[39;00m\n\u001b[0;32m   3632\u001b[0m \u001b[39mexcept\u001b[39;00m \u001b[39mTypeError\u001b[39;00m:\n\u001b[0;32m   3633\u001b[0m     \u001b[39m# If we have a listlike key, _check_indexing_error will raise\u001b[39;00m\n\u001b[0;32m   3634\u001b[0m     \u001b[39m#  InvalidIndexError. Otherwise we fall through and re-raise\u001b[39;00m\n\u001b[0;32m   3635\u001b[0m     \u001b[39m#  the TypeError.\u001b[39;00m\n\u001b[0;32m   3636\u001b[0m     \u001b[39mself\u001b[39m\u001b[39m.\u001b[39m_check_indexing_error(key)\n",
      "\u001b[1;31mKeyError\u001b[0m: ('ad_ltv_day3', 'app_iap_ltv_day3', 'target_full_ltv_day30')"
     ]
    }
   ],
   "source": [
    "dataframe=pd.read_csv('../Dataset.csv') #зчитуємо в змінну dataframe дані з заданого файлу\n",
    "dataframe #виводимо дані на екран\n",
    "print(dataframe.filter('ad_ltv_day3','app_iap_ltv_day3','target_full_ltv_day30',axis=1))"
   ]
  },
  {
   "cell_type": "markdown",
   "metadata": {},
   "source": [
    "Перевіримо чи є пропущені дані"
   ]
  },
  {
   "cell_type": "code",
   "execution_count": 5,
   "metadata": {},
   "outputs": [
    {
     "data": {
      "text/plain": [
       "1374"
      ]
     },
     "execution_count": 5,
     "metadata": {},
     "output_type": "execute_result"
    }
   ],
   "source": [
    "\n",
    "dataframe.isna().any(axis=1).sum() #порахуємо і виведемо кількість пропущених даних"
   ]
  },
  {
   "cell_type": "markdown",
   "metadata": {},
   "source": [
    "Бачимо, що користувачів з пропущеними даними всього 1374. Це неймовірно мало порівняно з загальною кількістю користувачів 1467832. Тому ми викинемо ці рядки. Також викинемо останні чотири стовпчики з доходами з користувача і створимо з них ще один датафрейм. "
   ]
  },
  {
   "cell_type": "code",
   "execution_count": 6,
   "metadata": {},
   "outputs": [
    {
     "data": {
      "text/html": [
       "<div>\n",
       "<style scoped>\n",
       "    .dataframe tbody tr th:only-of-type {\n",
       "        vertical-align: middle;\n",
       "    }\n",
       "\n",
       "    .dataframe tbody tr th {\n",
       "        vertical-align: top;\n",
       "    }\n",
       "\n",
       "    .dataframe thead th {\n",
       "        text-align: right;\n",
       "    }\n",
       "</style>\n",
       "<table border=\"1\" class=\"dataframe\">\n",
       "  <thead>\n",
       "    <tr style=\"text-align: right;\">\n",
       "      <th></th>\n",
       "      <th>total_sessions_day0</th>\n",
       "      <th>total_sessions_day1</th>\n",
       "      <th>total_sessions_day3</th>\n",
       "      <th>total_sessions_day7</th>\n",
       "      <th>chapters_finished_day0</th>\n",
       "      <th>chapters_finished_day1</th>\n",
       "      <th>chapters_finished_day3</th>\n",
       "      <th>chapters_finished_day7</th>\n",
       "      <th>chapters_opened_day0</th>\n",
       "      <th>chapters_opened_day1</th>\n",
       "      <th>...</th>\n",
       "      <th>app_iap_ltv_day0</th>\n",
       "      <th>app_iap_ltv_day1</th>\n",
       "      <th>app_iap_ltv_day3</th>\n",
       "      <th>media_source</th>\n",
       "      <th>install_date</th>\n",
       "      <th>country_code</th>\n",
       "      <th>ad_ltv_day0</th>\n",
       "      <th>ad_ltv_day1</th>\n",
       "      <th>ad_ltv_day3</th>\n",
       "      <th>platform</th>\n",
       "    </tr>\n",
       "  </thead>\n",
       "  <tbody>\n",
       "    <tr>\n",
       "      <th>0</th>\n",
       "      <td>1.0</td>\n",
       "      <td>1.0</td>\n",
       "      <td>1.0</td>\n",
       "      <td>1.0</td>\n",
       "      <td>0</td>\n",
       "      <td>0</td>\n",
       "      <td>0</td>\n",
       "      <td>0</td>\n",
       "      <td>0</td>\n",
       "      <td>0</td>\n",
       "      <td>...</td>\n",
       "      <td>0.000000</td>\n",
       "      <td>0.000000</td>\n",
       "      <td>0.000000</td>\n",
       "      <td>SOURCE_23</td>\n",
       "      <td>2021-12-03</td>\n",
       "      <td>COUNTRY_135</td>\n",
       "      <td>0.000000</td>\n",
       "      <td>0.000000</td>\n",
       "      <td>0.000000</td>\n",
       "      <td>ios</td>\n",
       "    </tr>\n",
       "    <tr>\n",
       "      <th>1</th>\n",
       "      <td>1.0</td>\n",
       "      <td>1.0</td>\n",
       "      <td>1.0</td>\n",
       "      <td>1.0</td>\n",
       "      <td>0</td>\n",
       "      <td>0</td>\n",
       "      <td>0</td>\n",
       "      <td>0</td>\n",
       "      <td>0</td>\n",
       "      <td>0</td>\n",
       "      <td>...</td>\n",
       "      <td>0.000000</td>\n",
       "      <td>0.000000</td>\n",
       "      <td>0.000000</td>\n",
       "      <td>SOURCE_2</td>\n",
       "      <td>2021-12-03</td>\n",
       "      <td>COUNTRY_141</td>\n",
       "      <td>0.000000</td>\n",
       "      <td>0.000000</td>\n",
       "      <td>0.000000</td>\n",
       "      <td>android</td>\n",
       "    </tr>\n",
       "    <tr>\n",
       "      <th>2</th>\n",
       "      <td>1.0</td>\n",
       "      <td>2.0</td>\n",
       "      <td>2.0</td>\n",
       "      <td>2.0</td>\n",
       "      <td>0</td>\n",
       "      <td>0</td>\n",
       "      <td>0</td>\n",
       "      <td>0</td>\n",
       "      <td>0</td>\n",
       "      <td>0</td>\n",
       "      <td>...</td>\n",
       "      <td>0.000000</td>\n",
       "      <td>0.000000</td>\n",
       "      <td>0.000000</td>\n",
       "      <td>SOURCE_17</td>\n",
       "      <td>2021-12-03</td>\n",
       "      <td>COUNTRY_141</td>\n",
       "      <td>0.000000</td>\n",
       "      <td>0.000000</td>\n",
       "      <td>0.000000</td>\n",
       "      <td>android</td>\n",
       "    </tr>\n",
       "    <tr>\n",
       "      <th>3</th>\n",
       "      <td>1.0</td>\n",
       "      <td>1.0</td>\n",
       "      <td>1.0</td>\n",
       "      <td>1.0</td>\n",
       "      <td>0</td>\n",
       "      <td>0</td>\n",
       "      <td>0</td>\n",
       "      <td>0</td>\n",
       "      <td>0</td>\n",
       "      <td>0</td>\n",
       "      <td>...</td>\n",
       "      <td>0.000000</td>\n",
       "      <td>0.000000</td>\n",
       "      <td>0.000000</td>\n",
       "      <td>SOURCE_23</td>\n",
       "      <td>2021-12-03</td>\n",
       "      <td>COUNTRY_141</td>\n",
       "      <td>0.000000</td>\n",
       "      <td>0.000000</td>\n",
       "      <td>0.000000</td>\n",
       "      <td>ios</td>\n",
       "    </tr>\n",
       "    <tr>\n",
       "      <th>4</th>\n",
       "      <td>1.0</td>\n",
       "      <td>1.0</td>\n",
       "      <td>1.0</td>\n",
       "      <td>1.0</td>\n",
       "      <td>0</td>\n",
       "      <td>0</td>\n",
       "      <td>0</td>\n",
       "      <td>0</td>\n",
       "      <td>0</td>\n",
       "      <td>0</td>\n",
       "      <td>...</td>\n",
       "      <td>0.000000</td>\n",
       "      <td>0.000000</td>\n",
       "      <td>0.000000</td>\n",
       "      <td>SOURCE_1</td>\n",
       "      <td>2021-12-03</td>\n",
       "      <td>COUNTRY_203</td>\n",
       "      <td>0.000000</td>\n",
       "      <td>0.000000</td>\n",
       "      <td>0.000000</td>\n",
       "      <td>android</td>\n",
       "    </tr>\n",
       "    <tr>\n",
       "      <th>...</th>\n",
       "      <td>...</td>\n",
       "      <td>...</td>\n",
       "      <td>...</td>\n",
       "      <td>...</td>\n",
       "      <td>...</td>\n",
       "      <td>...</td>\n",
       "      <td>...</td>\n",
       "      <td>...</td>\n",
       "      <td>...</td>\n",
       "      <td>...</td>\n",
       "      <td>...</td>\n",
       "      <td>...</td>\n",
       "      <td>...</td>\n",
       "      <td>...</td>\n",
       "      <td>...</td>\n",
       "      <td>...</td>\n",
       "      <td>...</td>\n",
       "      <td>...</td>\n",
       "      <td>...</td>\n",
       "      <td>...</td>\n",
       "      <td>...</td>\n",
       "    </tr>\n",
       "    <tr>\n",
       "      <th>1467827</th>\n",
       "      <td>11.0</td>\n",
       "      <td>11.0</td>\n",
       "      <td>11.0</td>\n",
       "      <td>11.0</td>\n",
       "      <td>9</td>\n",
       "      <td>9</td>\n",
       "      <td>9</td>\n",
       "      <td>9</td>\n",
       "      <td>10</td>\n",
       "      <td>10</td>\n",
       "      <td>...</td>\n",
       "      <td>4.174198</td>\n",
       "      <td>4.174198</td>\n",
       "      <td>4.174198</td>\n",
       "      <td>SOURCE_17</td>\n",
       "      <td>2021-12-30</td>\n",
       "      <td>COUNTRY_141</td>\n",
       "      <td>0.037158</td>\n",
       "      <td>0.037158</td>\n",
       "      <td>0.037158</td>\n",
       "      <td>ios</td>\n",
       "    </tr>\n",
       "    <tr>\n",
       "      <th>1467828</th>\n",
       "      <td>2.0</td>\n",
       "      <td>3.0</td>\n",
       "      <td>6.0</td>\n",
       "      <td>7.0</td>\n",
       "      <td>5</td>\n",
       "      <td>9</td>\n",
       "      <td>11</td>\n",
       "      <td>13</td>\n",
       "      <td>6</td>\n",
       "      <td>10</td>\n",
       "      <td>...</td>\n",
       "      <td>4.899572</td>\n",
       "      <td>7.841280</td>\n",
       "      <td>9.404430</td>\n",
       "      <td>SOURCE_23</td>\n",
       "      <td>2021-12-30</td>\n",
       "      <td>COUNTRY_141</td>\n",
       "      <td>0.039256</td>\n",
       "      <td>0.039256</td>\n",
       "      <td>0.091267</td>\n",
       "      <td>ios</td>\n",
       "    </tr>\n",
       "    <tr>\n",
       "      <th>1467829</th>\n",
       "      <td>3.0</td>\n",
       "      <td>5.0</td>\n",
       "      <td>11.0</td>\n",
       "      <td>13.0</td>\n",
       "      <td>5</td>\n",
       "      <td>9</td>\n",
       "      <td>15</td>\n",
       "      <td>18</td>\n",
       "      <td>5</td>\n",
       "      <td>10</td>\n",
       "      <td>...</td>\n",
       "      <td>4.036153</td>\n",
       "      <td>8.875894</td>\n",
       "      <td>13.928170</td>\n",
       "      <td>SOURCE_23</td>\n",
       "      <td>2021-12-30</td>\n",
       "      <td>COUNTRY_141</td>\n",
       "      <td>0.000000</td>\n",
       "      <td>0.000000</td>\n",
       "      <td>0.000000</td>\n",
       "      <td>ios</td>\n",
       "    </tr>\n",
       "    <tr>\n",
       "      <th>1467830</th>\n",
       "      <td>5.0</td>\n",
       "      <td>5.0</td>\n",
       "      <td>5.0</td>\n",
       "      <td>5.0</td>\n",
       "      <td>24</td>\n",
       "      <td>24</td>\n",
       "      <td>24</td>\n",
       "      <td>24</td>\n",
       "      <td>24</td>\n",
       "      <td>24</td>\n",
       "      <td>...</td>\n",
       "      <td>7.402224</td>\n",
       "      <td>7.402224</td>\n",
       "      <td>7.402224</td>\n",
       "      <td>SOURCE_4</td>\n",
       "      <td>2021-12-30</td>\n",
       "      <td>COUNTRY_141</td>\n",
       "      <td>0.177550</td>\n",
       "      <td>0.177550</td>\n",
       "      <td>0.177550</td>\n",
       "      <td>ios</td>\n",
       "    </tr>\n",
       "    <tr>\n",
       "      <th>1467831</th>\n",
       "      <td>6.0</td>\n",
       "      <td>7.0</td>\n",
       "      <td>7.0</td>\n",
       "      <td>7.0</td>\n",
       "      <td>15</td>\n",
       "      <td>15</td>\n",
       "      <td>15</td>\n",
       "      <td>15</td>\n",
       "      <td>15</td>\n",
       "      <td>16</td>\n",
       "      <td>...</td>\n",
       "      <td>3.949385</td>\n",
       "      <td>3.949385</td>\n",
       "      <td>3.949385</td>\n",
       "      <td>SOURCE_1</td>\n",
       "      <td>2021-12-30</td>\n",
       "      <td>COUNTRY_141</td>\n",
       "      <td>0.114909</td>\n",
       "      <td>0.114909</td>\n",
       "      <td>0.114909</td>\n",
       "      <td>android</td>\n",
       "    </tr>\n",
       "  </tbody>\n",
       "</table>\n",
       "<p>1466458 rows × 59 columns</p>\n",
       "</div>"
      ],
      "text/plain": [
       "         total_sessions_day0  total_sessions_day1  total_sessions_day3  \\\n",
       "0                        1.0                  1.0                  1.0   \n",
       "1                        1.0                  1.0                  1.0   \n",
       "2                        1.0                  2.0                  2.0   \n",
       "3                        1.0                  1.0                  1.0   \n",
       "4                        1.0                  1.0                  1.0   \n",
       "...                      ...                  ...                  ...   \n",
       "1467827                 11.0                 11.0                 11.0   \n",
       "1467828                  2.0                  3.0                  6.0   \n",
       "1467829                  3.0                  5.0                 11.0   \n",
       "1467830                  5.0                  5.0                  5.0   \n",
       "1467831                  6.0                  7.0                  7.0   \n",
       "\n",
       "         total_sessions_day7  chapters_finished_day0  chapters_finished_day1  \\\n",
       "0                        1.0                       0                       0   \n",
       "1                        1.0                       0                       0   \n",
       "2                        2.0                       0                       0   \n",
       "3                        1.0                       0                       0   \n",
       "4                        1.0                       0                       0   \n",
       "...                      ...                     ...                     ...   \n",
       "1467827                 11.0                       9                       9   \n",
       "1467828                  7.0                       5                       9   \n",
       "1467829                 13.0                       5                       9   \n",
       "1467830                  5.0                      24                      24   \n",
       "1467831                  7.0                      15                      15   \n",
       "\n",
       "         chapters_finished_day3  chapters_finished_day7  chapters_opened_day0  \\\n",
       "0                             0                       0                     0   \n",
       "1                             0                       0                     0   \n",
       "2                             0                       0                     0   \n",
       "3                             0                       0                     0   \n",
       "4                             0                       0                     0   \n",
       "...                         ...                     ...                   ...   \n",
       "1467827                       9                       9                    10   \n",
       "1467828                      11                      13                     6   \n",
       "1467829                      15                      18                     5   \n",
       "1467830                      24                      24                    24   \n",
       "1467831                      15                      15                    15   \n",
       "\n",
       "         chapters_opened_day1  ...  app_iap_ltv_day0  app_iap_ltv_day1  \\\n",
       "0                           0  ...          0.000000          0.000000   \n",
       "1                           0  ...          0.000000          0.000000   \n",
       "2                           0  ...          0.000000          0.000000   \n",
       "3                           0  ...          0.000000          0.000000   \n",
       "4                           0  ...          0.000000          0.000000   \n",
       "...                       ...  ...               ...               ...   \n",
       "1467827                    10  ...          4.174198          4.174198   \n",
       "1467828                    10  ...          4.899572          7.841280   \n",
       "1467829                    10  ...          4.036153          8.875894   \n",
       "1467830                    24  ...          7.402224          7.402224   \n",
       "1467831                    16  ...          3.949385          3.949385   \n",
       "\n",
       "         app_iap_ltv_day3  media_source  install_date  country_code  \\\n",
       "0                0.000000     SOURCE_23    2021-12-03   COUNTRY_135   \n",
       "1                0.000000      SOURCE_2    2021-12-03   COUNTRY_141   \n",
       "2                0.000000     SOURCE_17    2021-12-03   COUNTRY_141   \n",
       "3                0.000000     SOURCE_23    2021-12-03   COUNTRY_141   \n",
       "4                0.000000      SOURCE_1    2021-12-03   COUNTRY_203   \n",
       "...                   ...           ...           ...           ...   \n",
       "1467827          4.174198     SOURCE_17    2021-12-30   COUNTRY_141   \n",
       "1467828          9.404430     SOURCE_23    2021-12-30   COUNTRY_141   \n",
       "1467829         13.928170     SOURCE_23    2021-12-30   COUNTRY_141   \n",
       "1467830          7.402224      SOURCE_4    2021-12-30   COUNTRY_141   \n",
       "1467831          3.949385      SOURCE_1    2021-12-30   COUNTRY_141   \n",
       "\n",
       "         ad_ltv_day0  ad_ltv_day1  ad_ltv_day3  platform  \n",
       "0           0.000000     0.000000     0.000000       ios  \n",
       "1           0.000000     0.000000     0.000000   android  \n",
       "2           0.000000     0.000000     0.000000   android  \n",
       "3           0.000000     0.000000     0.000000       ios  \n",
       "4           0.000000     0.000000     0.000000   android  \n",
       "...              ...          ...          ...       ...  \n",
       "1467827     0.037158     0.037158     0.037158       ios  \n",
       "1467828     0.039256     0.039256     0.091267       ios  \n",
       "1467829     0.000000     0.000000     0.000000       ios  \n",
       "1467830     0.177550     0.177550     0.177550       ios  \n",
       "1467831     0.114909     0.114909     0.114909   android  \n",
       "\n",
       "[1466458 rows x 59 columns]"
      ]
     },
     "execution_count": 6,
     "metadata": {},
     "output_type": "execute_result"
    }
   ],
   "source": [
    "dataframe.drop(dataframe.index[dataframe.isna().any(axis=1)].tolist(),axis=0,inplace=True)\n",
    "income_dataframe=dataframe.filter(['target_sub_ltv_day30','target_iap_ltv_day30','target_ad_ltv_day30','target_full_ltv_day30'],axis=1)\n",
    "dataframe.drop(columns=['target_sub_ltv_day30','target_iap_ltv_day30','target_ad_ltv_day30','target_full_ltv_day30'],axis=1,inplace=True)\n",
    "dataframe"
   ]
  },
  {
   "cell_type": "code",
   "execution_count": 7,
   "metadata": {},
   "outputs": [
    {
     "data": {
      "text/html": [
       "<div>\n",
       "<style scoped>\n",
       "    .dataframe tbody tr th:only-of-type {\n",
       "        vertical-align: middle;\n",
       "    }\n",
       "\n",
       "    .dataframe tbody tr th {\n",
       "        vertical-align: top;\n",
       "    }\n",
       "\n",
       "    .dataframe thead th {\n",
       "        text-align: right;\n",
       "    }\n",
       "</style>\n",
       "<table border=\"1\" class=\"dataframe\">\n",
       "  <thead>\n",
       "    <tr style=\"text-align: right;\">\n",
       "      <th></th>\n",
       "      <th>target_sub_ltv_day30</th>\n",
       "      <th>target_iap_ltv_day30</th>\n",
       "      <th>target_ad_ltv_day30</th>\n",
       "      <th>target_full_ltv_day30</th>\n",
       "    </tr>\n",
       "  </thead>\n",
       "  <tbody>\n",
       "    <tr>\n",
       "      <th>0</th>\n",
       "      <td>0.000000</td>\n",
       "      <td>0.000000</td>\n",
       "      <td>0.000000</td>\n",
       "      <td>0.000000</td>\n",
       "    </tr>\n",
       "    <tr>\n",
       "      <th>1</th>\n",
       "      <td>0.000000</td>\n",
       "      <td>0.000000</td>\n",
       "      <td>0.000000</td>\n",
       "      <td>0.000000</td>\n",
       "    </tr>\n",
       "    <tr>\n",
       "      <th>2</th>\n",
       "      <td>0.000000</td>\n",
       "      <td>0.000000</td>\n",
       "      <td>0.000000</td>\n",
       "      <td>0.000000</td>\n",
       "    </tr>\n",
       "    <tr>\n",
       "      <th>3</th>\n",
       "      <td>0.000000</td>\n",
       "      <td>0.000000</td>\n",
       "      <td>0.000000</td>\n",
       "      <td>0.000000</td>\n",
       "    </tr>\n",
       "    <tr>\n",
       "      <th>4</th>\n",
       "      <td>0.000000</td>\n",
       "      <td>0.000000</td>\n",
       "      <td>0.000000</td>\n",
       "      <td>0.000000</td>\n",
       "    </tr>\n",
       "    <tr>\n",
       "      <th>...</th>\n",
       "      <td>...</td>\n",
       "      <td>...</td>\n",
       "      <td>...</td>\n",
       "      <td>...</td>\n",
       "    </tr>\n",
       "    <tr>\n",
       "      <th>1467827</th>\n",
       "      <td>0.000000</td>\n",
       "      <td>4.174198</td>\n",
       "      <td>0.037158</td>\n",
       "      <td>4.211356</td>\n",
       "    </tr>\n",
       "    <tr>\n",
       "      <th>1467828</th>\n",
       "      <td>4.705161</td>\n",
       "      <td>10.967580</td>\n",
       "      <td>0.091267</td>\n",
       "      <td>15.764008</td>\n",
       "    </tr>\n",
       "    <tr>\n",
       "      <th>1467829</th>\n",
       "      <td>0.000000</td>\n",
       "      <td>14.938221</td>\n",
       "      <td>0.000000</td>\n",
       "      <td>14.938221</td>\n",
       "    </tr>\n",
       "    <tr>\n",
       "      <th>1467830</th>\n",
       "      <td>0.000000</td>\n",
       "      <td>7.402224</td>\n",
       "      <td>0.177550</td>\n",
       "      <td>7.579774</td>\n",
       "    </tr>\n",
       "    <tr>\n",
       "      <th>1467831</th>\n",
       "      <td>0.000000</td>\n",
       "      <td>3.949385</td>\n",
       "      <td>0.114909</td>\n",
       "      <td>4.064295</td>\n",
       "    </tr>\n",
       "  </tbody>\n",
       "</table>\n",
       "<p>1466458 rows × 4 columns</p>\n",
       "</div>"
      ],
      "text/plain": [
       "         target_sub_ltv_day30  target_iap_ltv_day30  target_ad_ltv_day30  \\\n",
       "0                    0.000000              0.000000             0.000000   \n",
       "1                    0.000000              0.000000             0.000000   \n",
       "2                    0.000000              0.000000             0.000000   \n",
       "3                    0.000000              0.000000             0.000000   \n",
       "4                    0.000000              0.000000             0.000000   \n",
       "...                       ...                   ...                  ...   \n",
       "1467827              0.000000              4.174198             0.037158   \n",
       "1467828              4.705161             10.967580             0.091267   \n",
       "1467829              0.000000             14.938221             0.000000   \n",
       "1467830              0.000000              7.402224             0.177550   \n",
       "1467831              0.000000              3.949385             0.114909   \n",
       "\n",
       "         target_full_ltv_day30  \n",
       "0                     0.000000  \n",
       "1                     0.000000  \n",
       "2                     0.000000  \n",
       "3                     0.000000  \n",
       "4                     0.000000  \n",
       "...                        ...  \n",
       "1467827               4.211356  \n",
       "1467828              15.764008  \n",
       "1467829              14.938221  \n",
       "1467830               7.579774  \n",
       "1467831               4.064295  \n",
       "\n",
       "[1466458 rows x 4 columns]"
      ]
     },
     "execution_count": 7,
     "metadata": {},
     "output_type": "execute_result"
    }
   ],
   "source": [
    "income_dataframe #виведемо таблицю з чотирьма фічами які вказують доходи"
   ]
  },
  {
   "cell_type": "code",
   "execution_count": null,
   "metadata": {},
   "outputs": [],
   "source": [
    "Приберемо з таблиці категоріальні(нечисельні) дані"
   ]
  },
  {
   "cell_type": "code",
   "execution_count": 8,
   "metadata": {},
   "outputs": [],
   "source": [
    "categorical_dataframe=dataframe.filter(['platform','media_source','install_date', 'country_code'],axis=1)\n",
    "dataframe.drop(columns=['platform','media_source','install_date', 'country_code'],axis=1,inplace=True) #Приберемо з таблиці категоріальні(нечисельні) дані"
   ]
  },
  {
   "cell_type": "code",
   "execution_count": 9,
   "metadata": {},
   "outputs": [
    {
     "data": {
      "text/html": [
       "<div>\n",
       "<style scoped>\n",
       "    .dataframe tbody tr th:only-of-type {\n",
       "        vertical-align: middle;\n",
       "    }\n",
       "\n",
       "    .dataframe tbody tr th {\n",
       "        vertical-align: top;\n",
       "    }\n",
       "\n",
       "    .dataframe thead th {\n",
       "        text-align: right;\n",
       "    }\n",
       "</style>\n",
       "<table border=\"1\" class=\"dataframe\">\n",
       "  <thead>\n",
       "    <tr style=\"text-align: right;\">\n",
       "      <th></th>\n",
       "      <th>platform</th>\n",
       "      <th>media_source</th>\n",
       "      <th>install_date</th>\n",
       "      <th>country_code</th>\n",
       "    </tr>\n",
       "  </thead>\n",
       "  <tbody>\n",
       "    <tr>\n",
       "      <th>0</th>\n",
       "      <td>ios</td>\n",
       "      <td>SOURCE_23</td>\n",
       "      <td>2021-12-03</td>\n",
       "      <td>COUNTRY_135</td>\n",
       "    </tr>\n",
       "    <tr>\n",
       "      <th>1</th>\n",
       "      <td>android</td>\n",
       "      <td>SOURCE_2</td>\n",
       "      <td>2021-12-03</td>\n",
       "      <td>COUNTRY_141</td>\n",
       "    </tr>\n",
       "    <tr>\n",
       "      <th>2</th>\n",
       "      <td>android</td>\n",
       "      <td>SOURCE_17</td>\n",
       "      <td>2021-12-03</td>\n",
       "      <td>COUNTRY_141</td>\n",
       "    </tr>\n",
       "    <tr>\n",
       "      <th>3</th>\n",
       "      <td>ios</td>\n",
       "      <td>SOURCE_23</td>\n",
       "      <td>2021-12-03</td>\n",
       "      <td>COUNTRY_141</td>\n",
       "    </tr>\n",
       "    <tr>\n",
       "      <th>4</th>\n",
       "      <td>android</td>\n",
       "      <td>SOURCE_1</td>\n",
       "      <td>2021-12-03</td>\n",
       "      <td>COUNTRY_203</td>\n",
       "    </tr>\n",
       "    <tr>\n",
       "      <th>...</th>\n",
       "      <td>...</td>\n",
       "      <td>...</td>\n",
       "      <td>...</td>\n",
       "      <td>...</td>\n",
       "    </tr>\n",
       "    <tr>\n",
       "      <th>1467827</th>\n",
       "      <td>ios</td>\n",
       "      <td>SOURCE_17</td>\n",
       "      <td>2021-12-30</td>\n",
       "      <td>COUNTRY_141</td>\n",
       "    </tr>\n",
       "    <tr>\n",
       "      <th>1467828</th>\n",
       "      <td>ios</td>\n",
       "      <td>SOURCE_23</td>\n",
       "      <td>2021-12-30</td>\n",
       "      <td>COUNTRY_141</td>\n",
       "    </tr>\n",
       "    <tr>\n",
       "      <th>1467829</th>\n",
       "      <td>ios</td>\n",
       "      <td>SOURCE_23</td>\n",
       "      <td>2021-12-30</td>\n",
       "      <td>COUNTRY_141</td>\n",
       "    </tr>\n",
       "    <tr>\n",
       "      <th>1467830</th>\n",
       "      <td>ios</td>\n",
       "      <td>SOURCE_4</td>\n",
       "      <td>2021-12-30</td>\n",
       "      <td>COUNTRY_141</td>\n",
       "    </tr>\n",
       "    <tr>\n",
       "      <th>1467831</th>\n",
       "      <td>android</td>\n",
       "      <td>SOURCE_1</td>\n",
       "      <td>2021-12-30</td>\n",
       "      <td>COUNTRY_141</td>\n",
       "    </tr>\n",
       "  </tbody>\n",
       "</table>\n",
       "<p>1466458 rows × 4 columns</p>\n",
       "</div>"
      ],
      "text/plain": [
       "        platform media_source install_date country_code\n",
       "0            ios    SOURCE_23   2021-12-03  COUNTRY_135\n",
       "1        android     SOURCE_2   2021-12-03  COUNTRY_141\n",
       "2        android    SOURCE_17   2021-12-03  COUNTRY_141\n",
       "3            ios    SOURCE_23   2021-12-03  COUNTRY_141\n",
       "4        android     SOURCE_1   2021-12-03  COUNTRY_203\n",
       "...          ...          ...          ...          ...\n",
       "1467827      ios    SOURCE_17   2021-12-30  COUNTRY_141\n",
       "1467828      ios    SOURCE_23   2021-12-30  COUNTRY_141\n",
       "1467829      ios    SOURCE_23   2021-12-30  COUNTRY_141\n",
       "1467830      ios     SOURCE_4   2021-12-30  COUNTRY_141\n",
       "1467831  android     SOURCE_1   2021-12-30  COUNTRY_141\n",
       "\n",
       "[1466458 rows x 4 columns]"
      ]
     },
     "execution_count": 9,
     "metadata": {},
     "output_type": "execute_result"
    }
   ],
   "source": [
    "categorical_dataframe #Виведемо таблицю з категоріальними даними"
   ]
  },
  {
   "cell_type": "code",
   "execution_count": null,
   "metadata": {},
   "outputs": [],
   "source": [
    "Розділимо наші вхідні дані на ті, на яких наш алгоритм буде тренуватись і на ті, на яких буде тестуватись(тренувальні дані-80%, тестувальні-20%)"
   ]
  },
  {
   "cell_type": "code",
   "execution_count": 10,
   "metadata": {},
   "outputs": [],
   "source": [
    "X_train, X_test, y_train, y_test = model_selection.train_test_split(dataframe,income_dataframe['target_full_ltv_day30'], test_size=0.2)"
   ]
  },
  {
   "cell_type": "code",
   "execution_count": null,
   "metadata": {},
   "outputs": [],
   "source": [
    "Створимо обєкт класу LinearRegression\n"
   ]
  },
  {
   "cell_type": "code",
   "execution_count": 11,
   "metadata": {},
   "outputs": [],
   "source": [
    "model=linear_model.LinearRegression(fit_intercept=1)"
   ]
  },
  {
   "cell_type": "code",
   "execution_count": null,
   "metadata": {},
   "outputs": [],
   "source": [
    "Передамо у обєкт класу лінійної регресії дані, на яких тренуватимемо модель"
   ]
  },
  {
   "cell_type": "code",
   "execution_count": 12,
   "metadata": {},
   "outputs": [
    {
     "name": "stdout",
     "output_type": "stream",
     "text": [
      "LinearRegression(fit_intercept=1)\n"
     ]
    }
   ],
   "source": [
    "model.fit(X_train, y_train)\n",
    "print(model)"
   ]
  },
  {
   "cell_type": "code",
   "execution_count": null,
   "metadata": {},
   "outputs": [],
   "source": [
    "Отримаємо значення лінійної регресії"
   ]
  },
  {
   "cell_type": "code",
   "execution_count": 13,
   "metadata": {},
   "outputs": [],
   "source": [
    "predictions=model.predict(X_test)"
   ]
  },
  {
   "cell_type": "code",
   "execution_count": 14,
   "metadata": {},
   "outputs": [
    {
     "data": {
      "text/plain": [
       "array([ 1.14777913e-02,  1.25810325e-03, -1.07548842e-02, ...,\n",
       "        1.88554626e-02,  6.23437582e-05,  1.25810325e-03])"
      ]
     },
     "execution_count": 14,
     "metadata": {},
     "output_type": "execute_result"
    }
   ],
   "source": [
    "predictions"
   ]
  },
  {
   "cell_type": "code",
   "execution_count": null,
   "metadata": {},
   "outputs": [],
   "source": [
    "Знайдемо середню абсолютну похибку лінійної регресії(MAE)"
   ]
  },
  {
   "cell_type": "code",
   "execution_count": 15,
   "metadata": {},
   "outputs": [
    {
     "data": {
      "text/plain": [
       "0.13536579997892909"
      ]
     },
     "execution_count": 15,
     "metadata": {},
     "output_type": "execute_result"
    }
   ],
   "source": [
    "mean_absolute_error(y_test,predictions)"
   ]
  },
  {
   "cell_type": "code",
   "execution_count": null,
   "metadata": {},
   "outputs": [],
   "source": [
    "Знайдемо середньоквадратичну похибку лінійної регресії(RMSE)"
   ]
  },
  {
   "cell_type": "code",
   "execution_count": 16,
   "metadata": {},
   "outputs": [
    {
     "data": {
      "text/plain": [
       "(1.0979369801852592+0j)"
      ]
     },
     "execution_count": 16,
     "metadata": {},
     "output_type": "execute_result"
    }
   ],
   "source": [
    "sqrt(mean_squared_error(y_test,predictions))"
   ]
  },
  {
   "cell_type": "code",
   "execution_count": null,
   "metadata": {},
   "outputs": [],
   "source": [
    "Знайдемо середньоквадратичну похибку лінійної регресії(MAPE)"
   ]
  },
  {
   "cell_type": "code",
   "execution_count": 17,
   "metadata": {},
   "outputs": [
    {
     "data": {
      "text/plain": [
       "96870813821756.7"
      ]
     },
     "execution_count": 17,
     "metadata": {},
     "output_type": "execute_result"
    }
   ],
   "source": [
    "mean_absolute_percentage_error(y_test,predictions)"
   ]
  },
  {
   "cell_type": "code",
   "execution_count": null,
   "metadata": {},
   "outputs": [],
   "source": [
    "Запишемо масив неважливих на наш погляд метрик"
   ]
  },
  {
   "cell_type": "code",
   "execution_count": 18,
   "metadata": {},
   "outputs": [
    {
     "data": {
      "text/plain": [
       "10"
      ]
     },
     "execution_count": 18,
     "metadata": {},
     "output_type": "execute_result"
    }
   ],
   "source": [
    "not_needed_features=['ad_ltv_day3', 'chapters_finished_day0', 'chapters_finished_day1', 'chapters_finished_day7', 'chapters_opened_day3', 'chapters_opened_session3', 'chapters_opened_session9',  'diamonds_received_day1', 'diamonds_received_day7', 'tickets_spent_day3']\n",
    "len(not_needed_features)"
   ]
  },
  {
   "cell_type": "code",
   "execution_count": null,
   "metadata": {},
   "outputs": [],
   "source": []
  },
  {
   "cell_type": "code",
   "execution_count": 19,
   "metadata": {},
   "outputs": [
    {
     "name": "stdout",
     "output_type": "stream",
     "text": [
      "['total_sessions_day0', 'total_sessions_day1', 'total_sessions_day3', 'total_sessions_day7', 'chapters_finished_day0', 'chapters_finished_day1', 'chapters_finished_day3', 'chapters_finished_day7', 'chapters_opened_day0', 'chapters_opened_day1', 'chapters_opened_day3', 'chapters_opened_day7', 'chapters_closed_day0', 'chapters_closed_day1', 'chapters_closed_day3', 'chapters_closed_day7', 'diamonds_received_day0', 'diamonds_received_day1', 'diamonds_received_day3', 'diamonds_received_day7', 'diamonds_spent_day0', 'diamonds_spent_day1', 'diamonds_spent_day3', 'diamonds_spent_day7', 'tickets_spent_day0', 'tickets_spent_day1', 'tickets_spent_day3', 'tickets_spent_day7', 'retained_day1', 'retained_day3', 'retained_day7', 'chapters_finished_session1', 'chapters_finished_session3', 'chapters_finished_session9', 'chapters_opened_session1', 'chapters_opened_session3', 'chapters_opened_session9', 'chapters_closed_session1', 'chapters_closed_session3', 'chapters_closed_session9', 'diamonds_spent_session1', 'diamonds_spent_session3', 'diamonds_spent_session9', 'tickets_spent_session1', 'tickets_spent_session3', 'tickets_spent_session9', 'app_sub_ltv_day0', 'app_sub_ltv_day1', 'app_sub_ltv_day3', 'app_iap_ltv_day0', 'app_iap_ltv_day1', 'app_iap_ltv_day3', 'ad_ltv_day0', 'ad_ltv_day1', 'ad_ltv_day3']\n",
      "[3.51709835 1.46235382]\n",
      "0.14406402170501062 (1.3588649718201375+0j)\n"
     ]
    }
   ],
   "source": [
    "col=list(dataframe.columns.values)\n",
    "print(col)#Випишемо в маси назви всіх метрик які ми поки використовуємо(крім доходних та категоріальних метрик)\n",
    "col=['ad_ltv_day3','app_iap_ltv_day3']\n",
    "#'app_sub_ltv_day0','chapters_closed_day7','chapters_finished_day3'\n",
    "#col=['tickets_spent_day0','tickets_spent_session1','diamonds_spent_session1','retained_day1','total_sessions_day0']\n",
    "\n",
    "test_dataframe=dataframe.filter(col,axis='columns')# Отримаємо таблицю з значеннями двох метрик, які мають найбільші модулі коефіцієнтів лінійної регресії \n",
    "\"\"\" dummies_platform=pd.get_dummies(categorical_dataframe['platform'],drop_first=True)\n",
    "test_dataframe=pd.concat([test_dataframe,dummies_platform],axis='columns') \"\"\"\n",
    "X_train, X_test, y_train, y_test = model_selection.train_test_split(test_dataframe,income_dataframe['target_full_ltv_day30'], test_size=0.2)#Розділимо наші вхідні дані на ті, на яких наш алгоритм буде тренуватись і на ті, на яких буде тестуватись(тренувальні дані-80%, тестувальні-20%)\n",
    "model=linear_model.LinearRegression(fit_intercept=1)#Створимо обєкт класу LinearRegression\n",
    "model.fit(X_train, y_train)#Передамо у обєкт класу лінійної регресії дані, на яких тренуватимемо модель\n",
    "print(model.coef_)# Виведемо коефіцієнти лінійної регресії\n",
    "predictions=model.predict(X_test)# Отримаємо значення лінійної регресії\n",
    "print(mean_absolute_error(y_test,predictions),sqrt(mean_squared_error(y_test,predictions)))# Знайдемо середню абсолютну похибку лінійної регресії(MAE) та середньоквадратичну похибку лінійної регресії(RMSE)"
   ]
  },
  {
   "cell_type": "code",
   "execution_count": null,
   "metadata": {},
   "outputs": [],
   "source": [
    "Перетворимо категоріальну метрику дати встановлення на числову і додамо до головної таблиці даних"
   ]
  },
  {
   "cell_type": "code",
   "execution_count": 21,
   "metadata": {},
   "outputs": [],
   "source": [
    "dummies_date=pd.get_dummies(categorical_dataframe['install_date'],drop_first=True)\n",
    "dataframe=pd.concat([dataframe,dummies_date],axis='columns')"
   ]
  },
  {
   "cell_type": "code",
   "execution_count": null,
   "metadata": {},
   "outputs": [],
   "source": [
    "Перетворимо категоріальні метрики коду країн, медіа ресурсів та платформи на якій була встановлена гра на числові і додамо до головної таблиці даних"
   ]
  },
  {
   "cell_type": "code",
   "execution_count": 18,
   "metadata": {},
   "outputs": [],
   "source": [
    "dummies_countries=pd.get_dummies(categorical_dataframe['country_code'],drop_first=True)\n",
    "dataframe=pd.concat([dataframe,dummies_countries],axis='columns')\n",
    "dummies_media=pd.get_dummies(categorical_dataframe['media_source'],drop_first=True)\n",
    "dataframe=pd.concat([dataframe,dummies_media],axis='columns')\n",
    "dummies_platform=pd.get_dummies(categorical_dataframe['platform'],drop_first=True)\n",
    "dataframe=pd.concat([dataframe,dummies_platform],axis='columns')"
   ]
  },
  {
   "cell_type": "code",
   "execution_count": null,
   "metadata": {},
   "outputs": [],
   "source": [
    "Розділимо наші вхідні дані на ті, на яких наш алгоритм буде тренуватись і на ті, на яких буде тестуватись(тренувальні дані-80%, тестувальні-20%)"
   ]
  },
  {
   "cell_type": "code",
   "execution_count": null,
   "metadata": {},
   "outputs": [],
   "source": [
    "X_train, X_test, y_train, y_test = model_selection.train_test_split(dataframe,income_dataframe['target_full_ltv_day30'], test_size=0.2)\n"
   ]
  },
  {
   "cell_type": "code",
   "execution_count": null,
   "metadata": {},
   "outputs": [],
   "source": [
    "Створимо обєкт класу LinearRegression\n",
    "Передамо у обєкт класу лінійної регресії дані, на яких тренуватимемо модель\n",
    "Отримаємо значення лінійної регресії\n"
   ]
  },
  {
   "cell_type": "code",
   "execution_count": null,
   "metadata": {},
   "outputs": [],
   "source": [
    "model2=linear_model.LinearRegression(fit_intercept=1)#Створимо обєкт класу LinearRegression\n",
    "model2.fit(X_train, y_train)#Передамо у обєкт класу лінійної регресії дані, на яких тренуватимемо модель\n",
    "predictions2=model2.predict(X_test)#Отримаємо значення лінійної регресії"
   ]
  },
  {
   "cell_type": "code",
   "execution_count": null,
   "metadata": {},
   "outputs": [],
   "source": [
    "Знайдемо середню абсолютну похибку лінійної регресії(MAE)"
   ]
  },
  {
   "cell_type": "code",
   "execution_count": null,
   "metadata": {},
   "outputs": [
    {
     "data": {
      "text/plain": [
       "0.5150409548871169"
      ]
     },
     "execution_count": 37,
     "metadata": {},
     "output_type": "execute_result"
    }
   ],
   "source": [
    "mean_absolute_error(y_test,predictions)"
   ]
  },
  {
   "cell_type": "code",
   "execution_count": null,
   "metadata": {},
   "outputs": [],
   "source": [
    "Знайдемо середньоквадратичну похибку лінійної регресії(RMSE)"
   ]
  },
  {
   "cell_type": "code",
   "execution_count": null,
   "metadata": {},
   "outputs": [
    {
     "data": {
      "text/plain": [
       "(2.993490411204281+0j)"
      ]
     },
     "execution_count": 38,
     "metadata": {},
     "output_type": "execute_result"
    }
   ],
   "source": [
    "sqrt(mean_squared_error(y_test,predictions))"
   ]
  },
  {
   "cell_type": "code",
   "execution_count": null,
   "metadata": {},
   "outputs": [],
   "source": [
    "Сам не поняв шо це"
   ]
  },
  {
   "cell_type": "code",
   "execution_count": null,
   "metadata": {},
   "outputs": [
    {
     "name": "stdout",
     "output_type": "stream",
     "text": [
      "[ 0.          0.          0.          0.          0.          0.\n",
      "  0.          0.          0.          0.          0.          0.\n",
      "  0.          0.          0.15681514 -0.16998328  0.          0.\n",
      "  0.          0.          0.          0.          0.          0.\n",
      "  0.          0.          0.          0.         -0.10298484 -0.22449847\n",
      " -0.35701292  0.          0.          0.          0.          0.\n",
      "  0.          0.          0.          0.          0.          0.\n",
      "  0.          0.          0.          0.          1.44043495 -0.20379821\n",
      "  1.29406347 -0.12771713 -0.44117752  1.67804624 -0.41186012 -2.92851333\n",
      "  4.85012765  0.          0.          0.          0.          0.\n",
      "  0.          0.          0.          0.          0.          0.\n",
      "  0.          0.          0.          0.          0.          0.\n",
      "  0.          0.          0.          0.          0.          0.\n",
      "  0.          0.          0.          0.          0.          0.\n",
      "  0.          0.          0.          0.          0.          0.\n",
      "  0.          0.          0.          0.          0.          0.\n",
      "  0.          0.          0.          0.          0.          0.\n",
      "  0.          0.          0.          0.          0.          0.\n",
      "  0.          0.          0.          0.          0.          0.\n",
      "  0.          0.         -0.25058103  0.10152802  0.          0.13852544\n",
      "  0.14209434  0.          0.12840024  0.1397709   0.          0.13005249\n",
      "  0.11574017  0.13355574  0.29288488  0.12055485  0.10862928  0.15080878\n",
      "  0.12000889  0.114381    0.12694376  0.16199018  0.26460833  0.24653398\n",
      "  0.          0.          0.          0.          0.          0.11122147\n",
      "  0.11315495  0.          0.14144643  0.12112328  0.16520099  0.13768274\n",
      "  0.11607406  0.1141879   0.14309051  0.13260719  0.          0.10234196\n",
      "  0.10595434  0.13480907  0.11772658  0.          0.          0.\n",
      "  0.12538445  0.11638435  0.21864532  1.01817793  0.10052168  0.10231919\n",
      "  0.          0.          0.10838491  0.14605329  0.13116635  0.1550833\n",
      "  0.5689889   0.11370256  0.11716852  0.15962394  0.12428815  0.10758807\n",
      "  0.10289353  0.12610415  0.10952692  0.10862624  0.41687395  0.11647532\n",
      "  0.12677008  0.          0.10587233  0.10643689  0.10822899  0.10587823\n",
      "  0.62688874  0.10483339  0.10952506  0.11971466  0.12662047  0.10060714\n",
      "  0.11679006  0.21396746  0.10735911  0.1007489   0.19866477  0.12311809\n",
      "  0.59036169  0.10443316  0.10845899  0.13523602  0.1924006   0.14267577\n",
      "  0.13475344  0.          0.17505215  0.          0.16944399  0.11176521\n",
      "  0.10403364  0.          0.1235414   0.          0.12284494  0.\n",
      "  0.          0.          0.25459579  0.12064467  0.10318542  0.13283622\n",
      "  0.109941    0.          0.          0.57062791  0.10597891  0.13271759\n",
      "  0.          0.          0.          0.11862645  0.          0.11135583\n",
      "  0.10768193  0.19558438  0.15890225  0.16238711  0.10005274  0.12353946\n",
      "  0.11312797  0.          0.11367173  0.          0.          0.13175008\n",
      "  0.10641746  0.15797317  0.16113913  0.1060999   0.11198041  0.1309622\n",
      "  0.          0.12515088  0.13318604  0.          0.11337624  0.\n",
      "  0.15594542  0.11503055  0.14283004  0.          0.11640316  0.15043138\n",
      "  0.          0.10818765  0.          0.17392133  0.12706091  0.1042018\n",
      "  0.12657414  0.12438548  0.          0.11358084  0.          0.10230295\n",
      "  0.58707946  0.10044391  0.10157121  0.1184773   0.11714248  0.10854048\n",
      "  0.13333753  0.31448484  0.85112807  0.          0.          0.\n",
      " -0.15309244  0.11065457  0.          0.13168448  0.14495119  0.11353596\n",
      "  0.10005789  0.29576835  0.11658049  0.          0.10957767  0.\n",
      "  0.11984181  0.          0.14129217  0.11125395  0.12828117  0.12315903\n",
      "  0.          0.38561047  0.11131681  0.19769749  0.          0.10698958\n",
      "  0.          0.10307963  0.10797842  0.          0.          0.13828774\n",
      "  0.16765612  0.16220959  0.12046693  0.13573845  0.1176203   0.\n",
      "  0.          0.15183057  0.1189634   0.          0.          0.92342502\n",
      "  0.          0.12454639  0.1179381   0.          0.         -0.12327076\n",
      "  0.          0.          0.          0.          0.          0.\n",
      "  0.          0.          0.          0.         -0.20216873  0.\n",
      "  0.         -0.18852837  0.          0.          0.          0.\n",
      " -0.13800173  0.          0.        ]\n"
     ]
    }
   ],
   "source": [
    "for i in range(len(model2.coef_)):\n",
    "    if abs(model2.coef_[i])<0.1: model2.coef_[i]=0\n",
    "print(model2.coef_)"
   ]
  },
  {
   "cell_type": "code",
   "execution_count": null,
   "metadata": {},
   "outputs": [],
   "source": [
    "Створимо обєкт класу LinearRegression\n",
    "Передамо у обєкт класу лінійної регресії дані, на яких тренуватимемо модель\n",
    "Отримаємо значення лінійної регресії\n"
   ]
  },
  {
   "cell_type": "code",
   "execution_count": null,
   "metadata": {},
   "outputs": [
    {
     "name": "stdout",
     "output_type": "stream",
     "text": [
      "0.5362737257560155\n",
      "(2.993581283512038+0j)\n"
     ]
    }
   ],
   "source": [
    "predictions2=model2.predict(X_test)#Створимо обєкт класу LinearRegression\n",
    "print(mean_absolute_error(y_test,predictions))#Передамо у обєкт класу лінійної регресії дані, на яких тренуватимемо модель\n",
    "print(sqrt(mean_squared_error(y_test,predictions)))#Отримаємо значення лінійної регресії"
   ]
  }
 ],
 "metadata": {
  "kernelspec": {
   "display_name": "Python 3.10.0 64-bit",
   "language": "python",
   "name": "python3"
  },
  "language_info": {
   "codemirror_mode": {
    "name": "ipython",
    "version": 3
   },
   "file_extension": ".py",
   "mimetype": "text/x-python",
   "name": "python",
   "nbconvert_exporter": "python",
   "pygments_lexer": "ipython3",
   "version": "3.10.0"
  },
  "orig_nbformat": 4,
  "vscode": {
   "interpreter": {
    "hash": "72dd45ea11f5a85835f90ee355c020138edf063277834ba9b97bd32d06757197"
   }
  }
 },
 "nbformat": 4,
 "nbformat_minor": 2
}
